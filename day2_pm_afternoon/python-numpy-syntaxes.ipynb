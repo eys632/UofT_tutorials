{
  "cells": [
    {
      "cell_type": "markdown",
      "metadata": {
        "colab_type": "text",
        "id": "view-in-github"
      },
      "source": [
        "<a href=\"https://colab.research.google.com/github/MLcmore2023/MLcmore2023/blob/main/day2_pm_afternoon/python-numpy-syntaxes.ipynb\" target=\"_parent\"><img src=\"https://colab.research.google.com/assets/colab-badge.svg\" alt=\"Open In Colab\"/></a>"
      ]
    },
    {
      "cell_type": "markdown",
      "metadata": {
        "id": "LeZbnMqO0I1z"
      },
      "source": [
        "# Python syntaxes"
      ]
    },
    {
      "cell_type": "markdown",
      "metadata": {
        "id": "yOX-obrO0I15"
      },
      "source": [
        "#### list indexing"
      ]
    },
    {
      "cell_type": "code",
      "execution_count": null,
      "metadata": {
        "execution": {
          "iopub.execute_input": "2023-07-10T23:50:46.190066Z",
          "iopub.status.busy": "2023-07-10T23:50:46.189031Z",
          "iopub.status.idle": "2023-07-10T23:50:46.195314Z",
          "shell.execute_reply": "2023-07-10T23:50:46.194634Z",
          "shell.execute_reply.started": "2023-07-10T23:50:46.190033Z"
        },
        "id": "uvJt26PJ0I16",
        "outputId": "16ec5bc1-b568-4f2a-8f13-c406196a0150",
        "trusted": true
      },
      "outputs": [
        {
          "name": "stdout",
          "output_type": "stream",
          "text": [
            "first item: a\n",
            "last item: g\n"
          ]
        }
      ],
      "source": [
        "letter_list = ['a','b','c','d','e','f','g']\n",
        "\n",
        "print(\"first item:\",letter_list[0])\n",
        "print(\"last item:\",letter_list[-1])"
      ]
    },
    {
      "cell_type": "code",
      "execution_count": null,
      "metadata": {
        "execution": {
          "iopub.execute_input": "2023-07-10T23:50:46.199590Z",
          "iopub.status.busy": "2023-07-10T23:50:46.197970Z",
          "iopub.status.idle": "2023-07-10T23:50:46.218878Z",
          "shell.execute_reply": "2023-07-10T23:50:46.217136Z",
          "shell.execute_reply.started": "2023-07-10T23:50:46.199536Z"
        },
        "id": "m_wmpCG80I19",
        "outputId": "eab54c95-0c26-4abc-b411-e59a0946501b",
        "trusted": true
      },
      "outputs": [
        {
          "name": "stdout",
          "output_type": "stream",
          "text": [
            "from item 0 till item 3 (excluding item 3): ['a', 'b', 'c']\n",
            "from item 0 till item 3 (excluding item 3): ['a', 'b', 'c']\n"
          ]
        }
      ],
      "source": [
        "print(\"from item 0 till item 3 (excluding item 3):\",letter_list[0:3])\n",
        "\n",
        "print(\"from item 0 till item 3 (excluding item 3):\",letter_list[ :3])\n"
      ]
    },
    {
      "cell_type": "markdown",
      "metadata": {
        "id": "hAOsqpJF0I1-"
      },
      "source": [
        "#### for each loops\n"
      ]
    },
    {
      "cell_type": "code",
      "execution_count": null,
      "metadata": {
        "execution": {
          "iopub.execute_input": "2023-07-10T23:50:46.222943Z",
          "iopub.status.busy": "2023-07-10T23:50:46.221547Z",
          "iopub.status.idle": "2023-07-10T23:50:46.234624Z",
          "shell.execute_reply": "2023-07-10T23:50:46.233209Z",
          "shell.execute_reply.started": "2023-07-10T23:50:46.222897Z"
        },
        "id": "WpaJhuvt0I1_",
        "outputId": "511cec94-1d2c-42e3-f53b-fd38025df5c5",
        "trusted": true
      },
      "outputs": [
        {
          "name": "stdout",
          "output_type": "stream",
          "text": [
            "11\n",
            "22\n",
            "33\n",
            "44\n",
            "55\n"
          ]
        }
      ],
      "source": [
        "number_list = [11,22,33,44,55]\n",
        "for num in number_list:\n",
        "\tprint(num)"
      ]
    },
    {
      "cell_type": "markdown",
      "metadata": {
        "id": "IapZZOZa0I1_"
      },
      "source": [
        "#### for range"
      ]
    },
    {
      "cell_type": "code",
      "execution_count": null,
      "metadata": {
        "execution": {
          "iopub.execute_input": "2023-07-10T23:50:46.236087Z",
          "iopub.status.busy": "2023-07-10T23:50:46.235828Z",
          "iopub.status.idle": "2023-07-10T23:50:46.249323Z",
          "shell.execute_reply": "2023-07-10T23:50:46.247960Z",
          "shell.execute_reply.started": "2023-07-10T23:50:46.236062Z"
        },
        "id": "BNZbHwIu0I2A",
        "outputId": "bd25ebf9-bc2b-4ae5-b47f-65a66f3686aa",
        "trusted": true
      },
      "outputs": [
        {
          "name": "stdout",
          "output_type": "stream",
          "text": [
            "0\n",
            "1\n",
            "2\n",
            "3\n",
            "4\n",
            "5\n",
            "6\n",
            "7\n",
            "8\n",
            "9\n"
          ]
        }
      ],
      "source": [
        "for num in range(10):\n",
        "    print(num)"
      ]
    },
    {
      "cell_type": "code",
      "execution_count": null,
      "metadata": {
        "execution": {
          "iopub.execute_input": "2023-07-10T23:50:46.252917Z",
          "iopub.status.busy": "2023-07-10T23:50:46.252500Z",
          "iopub.status.idle": "2023-07-10T23:50:46.266624Z",
          "shell.execute_reply": "2023-07-10T23:50:46.264609Z",
          "shell.execute_reply.started": "2023-07-10T23:50:46.252883Z"
        },
        "id": "Y-ZksBxj0I2B",
        "outputId": "f169c7e0-9b12-4f21-b7aa-17569045910f",
        "trusted": true
      },
      "outputs": [
        {
          "name": "stdout",
          "output_type": "stream",
          "text": [
            "10\n",
            "11\n",
            "12\n",
            "13\n",
            "14\n",
            "15\n",
            "16\n",
            "17\n",
            "18\n",
            "19\n"
          ]
        }
      ],
      "source": [
        "for num in range(10,20):\n",
        "    print(num)"
      ]
    },
    {
      "cell_type": "code",
      "execution_count": null,
      "metadata": {
        "execution": {
          "iopub.execute_input": "2023-07-10T23:50:46.268549Z",
          "iopub.status.busy": "2023-07-10T23:50:46.268235Z",
          "iopub.status.idle": "2023-07-10T23:50:46.285149Z",
          "shell.execute_reply": "2023-07-10T23:50:46.284110Z",
          "shell.execute_reply.started": "2023-07-10T23:50:46.268524Z"
        },
        "id": "WcjdFo7U0I2C",
        "outputId": "ce8d3cab-a9b4-4daf-ba89-bbbb84d03471",
        "trusted": true
      },
      "outputs": [
        {
          "name": "stdout",
          "output_type": "stream",
          "text": [
            "10\n",
            "12\n",
            "14\n",
            "16\n",
            "18\n"
          ]
        }
      ],
      "source": [
        "for num in range(10,20,2):\n",
        "    print(num)"
      ]
    },
    {
      "cell_type": "markdown",
      "metadata": {
        "id": "zHA45pl70I2D"
      },
      "source": [
        "#### List comprehension"
      ]
    },
    {
      "cell_type": "code",
      "execution_count": null,
      "metadata": {
        "execution": {
          "iopub.execute_input": "2023-07-10T23:50:46.287945Z",
          "iopub.status.busy": "2023-07-10T23:50:46.287421Z",
          "iopub.status.idle": "2023-07-10T23:50:46.305384Z",
          "shell.execute_reply": "2023-07-10T23:50:46.304455Z",
          "shell.execute_reply.started": "2023-07-10T23:50:46.287901Z"
        },
        "id": "gZFO6jqF0I2D",
        "outputId": "79288658-64d4-4013-93d4-5b5cd897e223",
        "trusted": true
      },
      "outputs": [
        {
          "name": "stdout",
          "output_type": "stream",
          "text": [
            "[[], [], [], [], [], [], [], [], [], []]\n",
            "[[], [], [], [], [], [], [], [], [], []]\n"
          ]
        }
      ],
      "source": [
        "numbers = []\n",
        "for garbage in range(10):\n",
        "    numbers.append([])\n",
        "print(numbers)\n",
        "\n",
        "numbers = [ [] for f in range(10)]\n",
        "numbers = [ [],]*10\n",
        "print(numbers)"
      ]
    },
    {
      "cell_type": "markdown",
      "metadata": {
        "id": "1UijYn4g0I2D"
      },
      "source": [
        "#### Enumerate"
      ]
    },
    {
      "cell_type": "code",
      "execution_count": null,
      "metadata": {
        "execution": {
          "iopub.execute_input": "2023-07-10T23:50:46.306655Z",
          "iopub.status.busy": "2023-07-10T23:50:46.306371Z",
          "iopub.status.idle": "2023-07-10T23:50:46.320096Z",
          "shell.execute_reply": "2023-07-10T23:50:46.318846Z",
          "shell.execute_reply.started": "2023-07-10T23:50:46.306629Z"
        },
        "id": "DrrYFags0I2E",
        "outputId": "7c642cda-1507-4d48-b665-031c371a3bbf",
        "trusted": true
      },
      "outputs": [
        {
          "name": "stdout",
          "output_type": "stream",
          "text": [
            "0 a\n",
            "1 b\n",
            "2 c\n",
            "0 a\n",
            "1 b\n",
            "2 c\n"
          ]
        }
      ],
      "source": [
        "list = [\"a\",\"b\",\"c\"]\n",
        "\n",
        "for index in range(3):\n",
        "    item = list[index]\n",
        "    print(index, item)\n",
        "\n",
        "for index, item in enumerate(list):\n",
        "    print(index,item)"
      ]
    },
    {
      "cell_type": "markdown",
      "metadata": {
        "id": "ScZ67Eop0I2E"
      },
      "source": [
        "# numpy syntaxes"
      ]
    },
    {
      "cell_type": "code",
      "execution_count": null,
      "metadata": {
        "execution": {
          "iopub.execute_input": "2023-07-10T23:50:46.322650Z",
          "iopub.status.busy": "2023-07-10T23:50:46.322281Z",
          "iopub.status.idle": "2023-07-10T23:50:46.337142Z",
          "shell.execute_reply": "2023-07-10T23:50:46.335486Z",
          "shell.execute_reply.started": "2023-07-10T23:50:46.322618Z"
        },
        "id": "Ef-SH-gK0I2F",
        "trusted": true
      },
      "outputs": [],
      "source": [
        "import numpy as np"
      ]
    },
    {
      "cell_type": "markdown",
      "metadata": {
        "id": "KG-Ber7l0I2F"
      },
      "source": [
        "#### `arange`"
      ]
    },
    {
      "cell_type": "code",
      "execution_count": null,
      "metadata": {
        "execution": {
          "iopub.execute_input": "2023-07-10T23:50:46.339447Z",
          "iopub.status.busy": "2023-07-10T23:50:46.339024Z",
          "iopub.status.idle": "2023-07-10T23:50:46.355056Z",
          "shell.execute_reply": "2023-07-10T23:50:46.354266Z",
          "shell.execute_reply.started": "2023-07-10T23:50:46.339419Z"
        },
        "id": "q1b-Y8wJ0I2F",
        "outputId": "94d42c6d-c348-425f-9b01-94718c978ce2",
        "trusted": true
      },
      "outputs": [
        {
          "data": {
            "text/plain": [
              "array([0, 1, 2, 3, 4])"
            ]
          },
          "execution_count": 11,
          "metadata": {},
          "output_type": "execute_result"
        }
      ],
      "source": [
        "np.arange(5)"
      ]
    },
    {
      "cell_type": "code",
      "execution_count": null,
      "metadata": {
        "execution": {
          "iopub.execute_input": "2023-07-10T23:50:46.358370Z",
          "iopub.status.busy": "2023-07-10T23:50:46.358067Z",
          "iopub.status.idle": "2023-07-10T23:50:46.369349Z",
          "shell.execute_reply": "2023-07-10T23:50:46.368415Z",
          "shell.execute_reply.started": "2023-07-10T23:50:46.358346Z"
        },
        "id": "eQLTrisK0I2G",
        "outputId": "09c8868c-184a-4668-bcac-ad0ef6ea42d6",
        "trusted": true
      },
      "outputs": [
        {
          "data": {
            "text/plain": [
              "array([0., 0., 0., 0., 0.])"
            ]
          },
          "execution_count": 12,
          "metadata": {},
          "output_type": "execute_result"
        }
      ],
      "source": [
        "np.zeros(5)"
      ]
    },
    {
      "cell_type": "code",
      "execution_count": null,
      "metadata": {
        "execution": {
          "iopub.execute_input": "2023-07-10T23:50:46.370509Z",
          "iopub.status.busy": "2023-07-10T23:50:46.370251Z",
          "iopub.status.idle": "2023-07-10T23:50:46.388152Z",
          "shell.execute_reply": "2023-07-10T23:50:46.387030Z",
          "shell.execute_reply.started": "2023-07-10T23:50:46.370488Z"
        },
        "id": "Lwk-7RDC0I2H",
        "outputId": "74408b05-0fe5-4754-89d2-ae8e9a100f2b",
        "trusted": true
      },
      "outputs": [
        {
          "data": {
            "text/plain": [
              "array([-0.7498227 , -0.16431061,  1.42799019,  2.03514258, -0.11426025])"
            ]
          },
          "execution_count": 13,
          "metadata": {},
          "output_type": "execute_result"
        }
      ],
      "source": [
        "np.random.randn(5)"
      ]
    },
    {
      "cell_type": "code",
      "execution_count": null,
      "metadata": {
        "execution": {
          "iopub.execute_input": "2023-07-10T23:50:46.390049Z",
          "iopub.status.busy": "2023-07-10T23:50:46.389596Z",
          "iopub.status.idle": "2023-07-10T23:50:46.401308Z",
          "shell.execute_reply": "2023-07-10T23:50:46.400121Z",
          "shell.execute_reply.started": "2023-07-10T23:50:46.390013Z"
        },
        "id": "Zj5VKhRV0I2H",
        "trusted": true
      },
      "outputs": [],
      "source": [
        "array1 = np.array([1,2,3,4,5])\n",
        "array2 = np.array([10,20,30,40,50])"
      ]
    },
    {
      "cell_type": "markdown",
      "metadata": {
        "id": "vfLYedLm0I2H"
      },
      "source": [
        "#### element wise product"
      ]
    },
    {
      "cell_type": "code",
      "execution_count": null,
      "metadata": {
        "execution": {
          "iopub.execute_input": "2023-07-10T23:50:46.402955Z",
          "iopub.status.busy": "2023-07-10T23:50:46.402601Z",
          "iopub.status.idle": "2023-07-10T23:50:46.421625Z",
          "shell.execute_reply": "2023-07-10T23:50:46.420195Z",
          "shell.execute_reply.started": "2023-07-10T23:50:46.402926Z"
        },
        "id": "2pbfeLzn0I2H",
        "outputId": "2f142215-f3ea-4abf-a06a-5995db7ec6b9",
        "trusted": true
      },
      "outputs": [
        {
          "data": {
            "text/plain": [
              "array([ 10,  40,  90, 160, 250])"
            ]
          },
          "execution_count": 15,
          "metadata": {},
          "output_type": "execute_result"
        }
      ],
      "source": [
        "array1*array2"
      ]
    },
    {
      "cell_type": "markdown",
      "metadata": {
        "id": "qUELC9yl0I2I"
      },
      "source": [
        "#### dot product"
      ]
    },
    {
      "cell_type": "code",
      "execution_count": null,
      "metadata": {
        "execution": {
          "iopub.execute_input": "2023-07-10T23:50:46.423832Z",
          "iopub.status.busy": "2023-07-10T23:50:46.423323Z",
          "iopub.status.idle": "2023-07-10T23:50:46.439064Z",
          "shell.execute_reply": "2023-07-10T23:50:46.437635Z",
          "shell.execute_reply.started": "2023-07-10T23:50:46.423802Z"
        },
        "id": "C-t5Pajn0I2I",
        "outputId": "038b9afb-ee91-423a-ad2f-f5132c0a50f0",
        "trusted": true
      },
      "outputs": [
        {
          "data": {
            "text/plain": [
              "550"
            ]
          },
          "execution_count": 16,
          "metadata": {},
          "output_type": "execute_result"
        }
      ],
      "source": [
        "array1@array2"
      ]
    },
    {
      "cell_type": "code",
      "execution_count": null,
      "metadata": {
        "execution": {
          "iopub.execute_input": "2023-07-10T23:50:46.440783Z",
          "iopub.status.busy": "2023-07-10T23:50:46.440492Z",
          "iopub.status.idle": "2023-07-10T23:50:46.455286Z",
          "shell.execute_reply": "2023-07-10T23:50:46.454150Z",
          "shell.execute_reply.started": "2023-07-10T23:50:46.440757Z"
        },
        "id": "v_gTNKEH0I2I",
        "outputId": "756466e0-01db-45bc-89c4-987b039f8d5e",
        "trusted": true
      },
      "outputs": [
        {
          "data": {
            "text/plain": [
              "array([ 1,  4,  9, 16, 25])"
            ]
          },
          "execution_count": 17,
          "metadata": {},
          "output_type": "execute_result"
        }
      ],
      "source": [
        "array1 = np.array([1,2,3,4,5])\n",
        "array1**2"
      ]
    },
    {
      "cell_type": "code",
      "execution_count": null,
      "metadata": {
        "execution": {
          "iopub.execute_input": "2023-07-10T23:50:52.406888Z",
          "iopub.status.busy": "2023-07-10T23:50:52.406481Z",
          "iopub.status.idle": "2023-07-10T23:50:52.415654Z",
          "shell.execute_reply": "2023-07-10T23:50:52.413286Z",
          "shell.execute_reply.started": "2023-07-10T23:50:52.406855Z"
        },
        "id": "GbDoiU7K0I2I",
        "outputId": "5336f86f-ff87-474c-e6db-36dd9b906521",
        "trusted": true
      },
      "outputs": [
        {
          "data": {
            "text/plain": [
              "array([ 2,  4,  6,  8, 10])"
            ]
          },
          "execution_count": 23,
          "metadata": {},
          "output_type": "execute_result"
        }
      ],
      "source": [
        "array1 = np.array([1,2,3,4,5])\n",
        "array1*2"
      ]
    },
    {
      "cell_type": "code",
      "execution_count": null,
      "metadata": {
        "execution": {
          "iopub.execute_input": "2023-07-10T23:51:07.542480Z",
          "iopub.status.busy": "2023-07-10T23:51:07.542126Z",
          "iopub.status.idle": "2023-07-10T23:51:07.550585Z",
          "shell.execute_reply": "2023-07-10T23:51:07.549451Z",
          "shell.execute_reply.started": "2023-07-10T23:51:07.542449Z"
        },
        "id": "RDPW98vd0I2J",
        "outputId": "9941a4aa-b6ae-4dac-9f2c-e17808bf1ab0",
        "trusted": true
      },
      "outputs": [
        {
          "data": {
            "text/plain": [
              "array([11, 22, 33, 44, 55])"
            ]
          },
          "execution_count": 24,
          "metadata": {},
          "output_type": "execute_result"
        }
      ],
      "source": [
        "array1 = np.array([1,2,3,4,5])\n",
        "array2 = np.array([10,20,30,40,50])\n",
        "array1+array2"
      ]
    },
    {
      "cell_type": "code",
      "execution_count": null,
      "metadata": {
        "execution": {
          "iopub.execute_input": "2023-07-10T23:51:32.958101Z",
          "iopub.status.busy": "2023-07-10T23:51:32.957783Z",
          "iopub.status.idle": "2023-07-10T23:51:32.966165Z",
          "shell.execute_reply": "2023-07-10T23:51:32.964962Z",
          "shell.execute_reply.started": "2023-07-10T23:51:32.958078Z"
        },
        "id": "M74ywcoS0I2J",
        "outputId": "c869ce78-0665-4250-c8a0-41134f6245d1",
        "trusted": true
      },
      "outputs": [
        {
          "data": {
            "text/plain": [
              "array([1, 2, 3, 4, 5])"
            ]
          },
          "execution_count": 26,
          "metadata": {},
          "output_type": "execute_result"
        }
      ],
      "source": [
        "arr = np.array([ [1,2],[3,4],[5,6]])\n",
        "print(arr)\n",
        "arr.shape"
      ]
    },
    {
      "cell_type": "code",
      "execution_count": null,
      "metadata": {
        "execution": {
          "iopub.execute_input": "2023-07-10T23:54:26.676762Z",
          "iopub.status.busy": "2023-07-10T23:54:26.675446Z",
          "iopub.status.idle": "2023-07-10T23:54:26.685868Z",
          "shell.execute_reply": "2023-07-10T23:54:26.683872Z",
          "shell.execute_reply.started": "2023-07-10T23:54:26.676652Z"
        },
        "id": "QNalQI-L0I2J",
        "outputId": "203b6754-fe43-40cb-d44a-4982f280ba8b",
        "trusted": true
      },
      "outputs": [
        {
          "data": {
            "text/plain": [
              "(5,)"
            ]
          },
          "execution_count": 41,
          "metadata": {},
          "output_type": "execute_result"
        }
      ],
      "source": [
        "arr1d = np.array([1,2,3,4,5])\n",
        "arr1d.shape"
      ]
    },
    {
      "cell_type": "code",
      "execution_count": null,
      "metadata": {
        "execution": {
          "iopub.execute_input": "2023-07-10T23:53:37.296428Z",
          "iopub.status.busy": "2023-07-10T23:53:37.296047Z",
          "iopub.status.idle": "2023-07-10T23:53:37.304358Z",
          "shell.execute_reply": "2023-07-10T23:53:37.302816Z",
          "shell.execute_reply.started": "2023-07-10T23:53:37.296397Z"
        },
        "id": "ydKR8bMK0I2K",
        "outputId": "7fa94999-1bd4-493d-998c-d052bb75ec85",
        "trusted": true
      },
      "outputs": [
        {
          "data": {
            "text/plain": [
              "(5, 1)"
            ]
          },
          "execution_count": 35,
          "metadata": {},
          "output_type": "execute_result"
        }
      ],
      "source": [
        "arr1d = np.array([1,2,3,4,5])\n",
        "arr2d = arr1d.reshape(5,1)\n",
        "arr2d.shape"
      ]
    },
    {
      "cell_type": "code",
      "execution_count": null,
      "metadata": {
        "execution": {
          "iopub.execute_input": "2023-07-10T23:54:41.274049Z",
          "iopub.status.busy": "2023-07-10T23:54:41.273630Z",
          "iopub.status.idle": "2023-07-10T23:54:41.281138Z",
          "shell.execute_reply": "2023-07-10T23:54:41.279547Z",
          "shell.execute_reply.started": "2023-07-10T23:54:41.274019Z"
        },
        "id": "qH-g4vhx0I2K",
        "outputId": "7801bd7c-26c7-4b05-d8fa-b8bdf1992384",
        "trusted": true
      },
      "outputs": [
        {
          "name": "stdout",
          "output_type": "stream",
          "text": [
            "[1 2 3 4 5]\n",
            "[[1 2 3 4 5]]\n"
          ]
        }
      ],
      "source": [
        "print(arr1d.T)\n",
        "print(arr2d.T)"
      ]
    },
    {
      "cell_type": "code",
      "execution_count": null,
      "metadata": {
        "execution": {
          "iopub.execute_input": "2023-07-10T23:55:22.690469Z",
          "iopub.status.busy": "2023-07-10T23:55:22.690095Z",
          "iopub.status.idle": "2023-07-10T23:55:22.698020Z",
          "shell.execute_reply": "2023-07-10T23:55:22.695876Z",
          "shell.execute_reply.started": "2023-07-10T23:55:22.690438Z"
        },
        "id": "nxFvHYWf0I2K",
        "outputId": "826b46f5-4594-448e-8ac0-439a681f4735",
        "trusted": true
      },
      "outputs": [
        {
          "name": "stdout",
          "output_type": "stream",
          "text": [
            "multipying 1d arrays:\n",
            " [ 1  4  9 16 25]\n",
            "multipying 2d arrays:\n",
            " [[ 1  2  3  4  5]\n",
            " [ 2  4  6  8 10]\n",
            " [ 3  6  9 12 15]\n",
            " [ 4  8 12 16 20]\n",
            " [ 5 10 15 20 25]]\n"
          ]
        }
      ],
      "source": [
        "print(\"multipying 1d arrays:\\n\",arr1d.T * arr1d)\n",
        "print(\"multipying 2d arrays:\\n\",arr2d.T * arr2d)"
      ]
    },
    {
      "cell_type": "code",
      "execution_count": null,
      "metadata": {
        "execution": {
          "iopub.execute_input": "2023-07-10T23:50:46.458072Z",
          "iopub.status.busy": "2023-07-10T23:50:46.457588Z",
          "iopub.status.idle": "2023-07-10T23:50:46.472073Z",
          "shell.execute_reply": "2023-07-10T23:50:46.470589Z",
          "shell.execute_reply.started": "2023-07-10T23:50:46.458035Z"
        },
        "id": "K4y9B3330I2L",
        "outputId": "a30bd8b5-8c3c-406c-c56e-48a2b0de1ac5",
        "trusted": true
      },
      "outputs": [
        {
          "data": {
            "text/plain": [
              "2"
            ]
          },
          "execution_count": 18,
          "metadata": {},
          "output_type": "execute_result"
        }
      ],
      "source": [
        "arr = np.array([5.1, 2.0, 9.4, 7.8, 1.2, 6.2])\n",
        "np.argmax(arr) #gives the index of the biggest item (9.4 is in index 2)"
      ]
    },
    {
      "cell_type": "code",
      "execution_count": null,
      "metadata": {
        "execution": {
          "iopub.execute_input": "2023-07-10T23:50:46.473970Z",
          "iopub.status.busy": "2023-07-10T23:50:46.473347Z",
          "iopub.status.idle": "2023-07-10T23:50:46.489328Z",
          "shell.execute_reply": "2023-07-10T23:50:46.487840Z",
          "shell.execute_reply.started": "2023-07-10T23:50:46.473934Z"
        },
        "id": "OhX_AeZ70I2L",
        "outputId": "38be3151-e649-44a1-e322-cc70f6271ee2",
        "trusted": true
      },
      "outputs": [
        {
          "data": {
            "text/plain": [
              "4"
            ]
          },
          "execution_count": 19,
          "metadata": {},
          "output_type": "execute_result"
        }
      ],
      "source": [
        "arr = np.array([5.1, 2.0, 9.4, 7.8, 1.2, 6.2])\n",
        "np.argmin(arr) #gives the index of the smallest item (1.2 is in index 4)"
      ]
    },
    {
      "cell_type": "markdown",
      "metadata": {
        "id": "kg97H6zf0I2L"
      },
      "source": [
        "#### np.unique removes all duplicates in an array"
      ]
    },
    {
      "cell_type": "code",
      "execution_count": null,
      "metadata": {
        "execution": {
          "iopub.execute_input": "2023-07-10T23:50:46.492471Z",
          "iopub.status.busy": "2023-07-10T23:50:46.491939Z",
          "iopub.status.idle": "2023-07-10T23:50:46.506180Z",
          "shell.execute_reply": "2023-07-10T23:50:46.504862Z",
          "shell.execute_reply.started": "2023-07-10T23:50:46.492430Z"
        },
        "id": "HvELbV5d0I2L",
        "outputId": "6b8d3c97-be33-4163-ab3f-a596e76832eb",
        "trusted": true
      },
      "outputs": [
        {
          "data": {
            "text/plain": [
              "array([1, 2, 3, 4])"
            ]
          },
          "execution_count": 20,
          "metadata": {},
          "output_type": "execute_result"
        }
      ],
      "source": [
        "arr = np.array([1,1,2,3,4,4,4,4,4,4,4,4,4])\n",
        "np.unique(arr)"
      ]
    },
    {
      "cell_type": "markdown",
      "metadata": {
        "id": "Tdc7DFeB0I2M"
      },
      "source": [
        "#### np.unique(return_inverse=True) removes all duplicates in an array AND renames the unique items from 0 to N"
      ]
    },
    {
      "cell_type": "code",
      "execution_count": null,
      "metadata": {
        "execution": {
          "iopub.execute_input": "2023-07-10T23:50:46.507509Z",
          "iopub.status.busy": "2023-07-10T23:50:46.507178Z",
          "iopub.status.idle": "2023-07-10T23:50:46.522870Z",
          "shell.execute_reply": "2023-07-10T23:50:46.521053Z",
          "shell.execute_reply.started": "2023-07-10T23:50:46.507478Z"
        },
        "id": "o-rOBKfi0I2M",
        "outputId": "7b145a3b-36d9-4a8f-eb93-c23e7ca7e40f",
        "trusted": true
      },
      "outputs": [
        {
          "data": {
            "text/plain": [
              "(array([5, 6, 7, 8]), array([0, 0, 1, 2, 3, 3, 3, 3, 3, 3]))"
            ]
          },
          "execution_count": 21,
          "metadata": {},
          "output_type": "execute_result"
        }
      ],
      "source": [
        "arr = np.array([5,5,6,7,8,8,8,8,8,8])\n",
        "np.unique(arr, return_inverse=True)"
      ]
    },
    {
      "cell_type": "markdown",
      "metadata": {
        "id": "NG9IIHyL0I2S"
      },
      "source": [
        "#### np.unique(return_inverse=True) removes all duplicates in an array AND renames the unique items from 0 to N"
      ]
    },
    {
      "cell_type": "code",
      "execution_count": null,
      "metadata": {
        "execution": {
          "iopub.execute_input": "2023-07-10T23:50:46.524463Z",
          "iopub.status.busy": "2023-07-10T23:50:46.524150Z",
          "iopub.status.idle": "2023-07-10T23:50:46.540072Z",
          "shell.execute_reply": "2023-07-10T23:50:46.538896Z",
          "shell.execute_reply.started": "2023-07-10T23:50:46.524436Z"
        },
        "id": "BoA3LmbE0I2S",
        "outputId": "ceb641c0-cb5d-416d-a2b1-d5e0b8f53a2e",
        "trusted": true
      },
      "outputs": [
        {
          "data": {
            "text/plain": [
              "(array([1, 2, 3, 4]), array([2, 1, 1, 9]))"
            ]
          },
          "execution_count": 22,
          "metadata": {},
          "output_type": "execute_result"
        }
      ],
      "source": [
        "arr = np.array([1,1,2,3,4,4,4,4,4,4,4,4,4])\n",
        "np.unique(arr, return_counts=True)"
      ]
    },
    {
      "cell_type": "markdown",
      "metadata": {
        "id": "FJYsNXFS0I2T"
      },
      "source": [
        "# Shell commands"
      ]
    },
    {
      "cell_type": "code",
      "execution_count": null,
      "metadata": {
        "execution": {
          "iopub.execute_input": "2023-07-10T23:56:33.209321Z",
          "iopub.status.busy": "2023-07-10T23:56:33.208971Z",
          "iopub.status.idle": "2023-07-10T23:56:33.478181Z",
          "shell.execute_reply": "2023-07-10T23:56:33.477272Z",
          "shell.execute_reply.started": "2023-07-10T23:56:33.209296Z"
        },
        "id": "tLM74AKh0I2T",
        "outputId": "12253d24-ca97-4982-c23c-44cd7e9a82d7",
        "trusted": true
      },
      "outputs": [
        {
          "name": "stdout",
          "output_type": "stream",
          "text": [
            "Linux 7065457a9ede 5.15.109+ #1 SMP Wed Jun 28 11:06:41 UTC 2023 x86_64 x86_64 x86_64 GNU/Linux\n"
          ]
        }
      ],
      "source": [
        "# ! linux command\n",
        "! uname -a"
      ]
    },
    {
      "cell_type": "code",
      "execution_count": null,
      "metadata": {
        "execution": {
          "iopub.execute_input": "2023-07-10T23:56:51.805152Z",
          "iopub.status.busy": "2023-07-10T23:56:51.804780Z",
          "iopub.status.idle": "2023-07-10T23:56:52.066330Z",
          "shell.execute_reply": "2023-07-10T23:56:52.065454Z",
          "shell.execute_reply.started": "2023-07-10T23:56:51.805122Z"
        },
        "id": "MpErQ3He0I2T",
        "outputId": "a47d3443-cc98-4688-bfed-ad0d612a6075",
        "trusted": true
      },
      "outputs": [
        {
          "name": "stdout",
          "output_type": "stream",
          "text": [
            "'=2.*'\t      entrypoint.sh\t    lib      mnt    run_jupyter.sh   tmp\n",
            "'=2023.0.1'   etc\t\t    lib32    opt    sbin\t     usr\n",
            " bin\t      home\t\t    lib64    proc   src\t\t     var\n",
            " boot\t      install_packages.sh   libx32   root   srv\n",
            " dev\t      kaggle\t\t    media    run    sys\n"
          ]
        }
      ],
      "source": [
        "! ls /"
      ]
    },
    {
      "cell_type": "code",
      "execution_count": null,
      "metadata": {
        "execution": {
          "iopub.execute_input": "2023-07-10T23:56:35.894341Z",
          "iopub.status.busy": "2023-07-10T23:56:35.893639Z",
          "iopub.status.idle": "2023-07-10T23:56:36.162815Z",
          "shell.execute_reply": "2023-07-10T23:56:36.161871Z",
          "shell.execute_reply.started": "2023-07-10T23:56:35.894303Z"
        },
        "id": "veOXvu7e0I2T",
        "outputId": "ffc44dce-7010-4976-e6a0-6f4b1b0648d5",
        "trusted": true
      },
      "outputs": [
        {
          "name": "stdout",
          "output_type": "stream",
          "text": [
            "/kaggle/working\n"
          ]
        }
      ],
      "source": [
        "! pwd"
      ]
    }
  ],
  "metadata": {
    "colab": {
      "include_colab_link": true,
      "provenance": []
    },
    "kernelspec": {
      "display_name": "Python 3",
      "language": "python",
      "name": "python3"
    },
    "language_info": {
      "codemirror_mode": {
        "name": "ipython",
        "version": 3
      },
      "file_extension": ".py",
      "mimetype": "text/x-python",
      "name": "python",
      "nbconvert_exporter": "python",
      "pygments_lexer": "ipython3",
      "version": "3.10.12"
    }
  },
  "nbformat": 4,
  "nbformat_minor": 0
}
