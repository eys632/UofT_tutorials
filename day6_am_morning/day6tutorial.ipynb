{
  "nbformat": 4,
  "nbformat_minor": 0,
  "metadata": {
    "colab": {
      "provenance": [],
      "gpuType": "T4"
    },
    "kernelspec": {
      "name": "python3",
      "display_name": "Python 3"
    },
    "language_info": {
      "name": "python"
    },
    "accelerator": "GPU"
  },
  "cells": [
    {
      "cell_type": "code",
      "execution_count": 1,
      "metadata": {
        "colab": {
          "base_uri": "https://localhost:8080/",
          "height": 330
        },
        "id": "P8E8CUS_qyGw",
        "outputId": "5984820a-7bfb-47eb-e19f-27f9f5e51b73"
      },
      "outputs": [
        {
          "output_type": "error",
          "ename": "MessageError",
          "evalue": "Error: credential propagation was unsuccessful",
          "traceback": [
            "\u001b[0;31m---------------------------------------------------------------------------\u001b[0m",
            "\u001b[0;31mMessageError\u001b[0m                              Traceback (most recent call last)",
            "\u001b[0;32m/tmp/ipython-input-1-1408506528.py\u001b[0m in \u001b[0;36m<cell line: 0>\u001b[0;34m()\u001b[0m\n\u001b[1;32m      1\u001b[0m \u001b[0;32mfrom\u001b[0m \u001b[0mgoogle\u001b[0m\u001b[0;34m.\u001b[0m\u001b[0mcolab\u001b[0m \u001b[0;32mimport\u001b[0m \u001b[0mdrive\u001b[0m\u001b[0;34m\u001b[0m\u001b[0;34m\u001b[0m\u001b[0m\n\u001b[0;32m----> 2\u001b[0;31m \u001b[0mdrive\u001b[0m\u001b[0;34m.\u001b[0m\u001b[0mmount\u001b[0m\u001b[0;34m(\u001b[0m\u001b[0;34m'/content/drive'\u001b[0m\u001b[0;34m)\u001b[0m\u001b[0;34m\u001b[0m\u001b[0;34m\u001b[0m\u001b[0m\n\u001b[0m",
            "\u001b[0;32m/usr/local/lib/python3.11/dist-packages/google/colab/drive.py\u001b[0m in \u001b[0;36mmount\u001b[0;34m(mountpoint, force_remount, timeout_ms, readonly)\u001b[0m\n\u001b[1;32m     98\u001b[0m \u001b[0;32mdef\u001b[0m \u001b[0mmount\u001b[0m\u001b[0;34m(\u001b[0m\u001b[0mmountpoint\u001b[0m\u001b[0;34m,\u001b[0m \u001b[0mforce_remount\u001b[0m\u001b[0;34m=\u001b[0m\u001b[0;32mFalse\u001b[0m\u001b[0;34m,\u001b[0m \u001b[0mtimeout_ms\u001b[0m\u001b[0;34m=\u001b[0m\u001b[0;36m120000\u001b[0m\u001b[0;34m,\u001b[0m \u001b[0mreadonly\u001b[0m\u001b[0;34m=\u001b[0m\u001b[0;32mFalse\u001b[0m\u001b[0;34m)\u001b[0m\u001b[0;34m:\u001b[0m\u001b[0;34m\u001b[0m\u001b[0;34m\u001b[0m\u001b[0m\n\u001b[1;32m     99\u001b[0m   \u001b[0;34m\"\"\"Mount your Google Drive at the specified mountpoint path.\"\"\"\u001b[0m\u001b[0;34m\u001b[0m\u001b[0;34m\u001b[0m\u001b[0m\n\u001b[0;32m--> 100\u001b[0;31m   return _mount(\n\u001b[0m\u001b[1;32m    101\u001b[0m       \u001b[0mmountpoint\u001b[0m\u001b[0;34m,\u001b[0m\u001b[0;34m\u001b[0m\u001b[0;34m\u001b[0m\u001b[0m\n\u001b[1;32m    102\u001b[0m       \u001b[0mforce_remount\u001b[0m\u001b[0;34m=\u001b[0m\u001b[0mforce_remount\u001b[0m\u001b[0;34m,\u001b[0m\u001b[0;34m\u001b[0m\u001b[0;34m\u001b[0m\u001b[0m\n",
            "\u001b[0;32m/usr/local/lib/python3.11/dist-packages/google/colab/drive.py\u001b[0m in \u001b[0;36m_mount\u001b[0;34m(mountpoint, force_remount, timeout_ms, ephemeral, readonly)\u001b[0m\n\u001b[1;32m    135\u001b[0m   )\n\u001b[1;32m    136\u001b[0m   \u001b[0;32mif\u001b[0m \u001b[0mephemeral\u001b[0m\u001b[0;34m:\u001b[0m\u001b[0;34m\u001b[0m\u001b[0;34m\u001b[0m\u001b[0m\n\u001b[0;32m--> 137\u001b[0;31m     _message.blocking_request(\n\u001b[0m\u001b[1;32m    138\u001b[0m         \u001b[0;34m'request_auth'\u001b[0m\u001b[0;34m,\u001b[0m\u001b[0;34m\u001b[0m\u001b[0;34m\u001b[0m\u001b[0m\n\u001b[1;32m    139\u001b[0m         \u001b[0mrequest\u001b[0m\u001b[0;34m=\u001b[0m\u001b[0;34m{\u001b[0m\u001b[0;34m'authType'\u001b[0m\u001b[0;34m:\u001b[0m \u001b[0;34m'dfs_ephemeral'\u001b[0m\u001b[0;34m}\u001b[0m\u001b[0;34m,\u001b[0m\u001b[0;34m\u001b[0m\u001b[0;34m\u001b[0m\u001b[0m\n",
            "\u001b[0;32m/usr/local/lib/python3.11/dist-packages/google/colab/_message.py\u001b[0m in \u001b[0;36mblocking_request\u001b[0;34m(request_type, request, timeout_sec, parent)\u001b[0m\n\u001b[1;32m    174\u001b[0m       \u001b[0mrequest_type\u001b[0m\u001b[0;34m,\u001b[0m \u001b[0mrequest\u001b[0m\u001b[0;34m,\u001b[0m \u001b[0mparent\u001b[0m\u001b[0;34m=\u001b[0m\u001b[0mparent\u001b[0m\u001b[0;34m,\u001b[0m \u001b[0mexpect_reply\u001b[0m\u001b[0;34m=\u001b[0m\u001b[0;32mTrue\u001b[0m\u001b[0;34m\u001b[0m\u001b[0;34m\u001b[0m\u001b[0m\n\u001b[1;32m    175\u001b[0m   )\n\u001b[0;32m--> 176\u001b[0;31m   \u001b[0;32mreturn\u001b[0m \u001b[0mread_reply_from_input\u001b[0m\u001b[0;34m(\u001b[0m\u001b[0mrequest_id\u001b[0m\u001b[0;34m,\u001b[0m \u001b[0mtimeout_sec\u001b[0m\u001b[0;34m)\u001b[0m\u001b[0;34m\u001b[0m\u001b[0;34m\u001b[0m\u001b[0m\n\u001b[0m",
            "\u001b[0;32m/usr/local/lib/python3.11/dist-packages/google/colab/_message.py\u001b[0m in \u001b[0;36mread_reply_from_input\u001b[0;34m(message_id, timeout_sec)\u001b[0m\n\u001b[1;32m    101\u001b[0m     ):\n\u001b[1;32m    102\u001b[0m       \u001b[0;32mif\u001b[0m \u001b[0;34m'error'\u001b[0m \u001b[0;32min\u001b[0m \u001b[0mreply\u001b[0m\u001b[0;34m:\u001b[0m\u001b[0;34m\u001b[0m\u001b[0;34m\u001b[0m\u001b[0m\n\u001b[0;32m--> 103\u001b[0;31m         \u001b[0;32mraise\u001b[0m \u001b[0mMessageError\u001b[0m\u001b[0;34m(\u001b[0m\u001b[0mreply\u001b[0m\u001b[0;34m[\u001b[0m\u001b[0;34m'error'\u001b[0m\u001b[0;34m]\u001b[0m\u001b[0;34m)\u001b[0m\u001b[0;34m\u001b[0m\u001b[0;34m\u001b[0m\u001b[0m\n\u001b[0m\u001b[1;32m    104\u001b[0m       \u001b[0;32mreturn\u001b[0m \u001b[0mreply\u001b[0m\u001b[0;34m.\u001b[0m\u001b[0mget\u001b[0m\u001b[0;34m(\u001b[0m\u001b[0;34m'data'\u001b[0m\u001b[0;34m,\u001b[0m \u001b[0;32mNone\u001b[0m\u001b[0;34m)\u001b[0m\u001b[0;34m\u001b[0m\u001b[0;34m\u001b[0m\u001b[0m\n\u001b[1;32m    105\u001b[0m \u001b[0;34m\u001b[0m\u001b[0m\n",
            "\u001b[0;31mMessageError\u001b[0m: Error: credential propagation was unsuccessful"
          ]
        }
      ],
      "source": [
        "from google.colab import drive\n",
        "drive.mount('/content/drive')"
      ]
    },
    {
      "cell_type": "markdown",
      "source": [
        "\n",
        "# Tutorial: A LLM Implementation in PyTorch\n",
        "\n",
        "In this tutorial, we'll walk through the basics of PyTorch and guide you through implementing a simple large language model. We'll also train the LLM on a small machine translation dataset to demonstrate the general workflow of deploying a ML model in PyTorch.\n",
        "\n",
        "Specifically, we'll cover the following topics:\n",
        "\n",
        "* PyTorch Basics: Familiarity with tensors, nn.Module, etc.\n",
        "\n",
        "* The Transformer Architecture: position encoding, multi-head attention, encoder/decoder.\n",
        "\n",
        "* Machine Translation (Seq2Seq) Example:\n",
        "  * Data preparation\n",
        "  * Training loops\n",
        "  * Evaluation\n"
      ],
      "metadata": {
        "id": "PIfwOaoHrUDf"
      }
    },
    {
      "cell_type": "code",
      "source": [
        "import torch\n",
        "import torch.nn as nn\n",
        "import torch.optim as optim\n",
        "import math\n",
        "from torch.nn.utils.rnn import pad_sequence\n",
        "import random\n",
        "import numpy as np\n",
        "import matplotlib.pyplot as plt\n",
        "%matplotlib inline\n",
        "#For Jupyter Notebook inline plotting"
      ],
      "metadata": {
        "id": "HTYBr-B0rIAb",
        "jupyter": {
          "is_executing": true
        }
      },
      "outputs": [],
      "execution_count": null
    },
    {
      "cell_type": "markdown",
      "source": [
        "## What is PyTorch\n",
        "\n",
        "PyTorch is an open-source machine learning library originally developed by Facebook's AI Research lab. It is one of the most common libraries used for building and training deep learning models."
      ],
      "metadata": {
        "id": "FnOAzCDcda9U"
      }
    },
    {
      "cell_type": "markdown",
      "source": [
        "\n",
        "\n",
        "---\n",
        "\n",
        "\n",
        "## Tensors\n",
        "Tensors are the backbone of PyTorch. Think of them as multi-dimensional arrays, similar to NumPy arrays but optimized for GPU acceleration."
      ],
      "metadata": {
        "id": "FIWeoG7mlRo8"
      }
    },
    {
      "cell_type": "code",
      "source": [
        "# Creating a tensor from a list\n",
        "tensor_a = torch.tensor([1, 2, 3, 4, 5])\n",
        "print(\"Tensor A:\", tensor_a)\n",
        "\n",
        "# Creating a 2D tensor (matrix)\n",
        "tensor_b = torch.tensor([[1, 2], [3, 4], [5, 6]])\n",
        "print(\"Tensor B:\\n\", tensor_b)\n",
        "\n",
        "# Tensor operations\n",
        "tensor_c = tensor_a + 10\n",
        "print(\"Tensor C (A + 10):\", tensor_c)\n",
        "\n",
        "# Matrix multiplication\n",
        "tensor_d = torch.matmul(tensor_b, torch.tensor([[2], [3]]))\n",
        "print(\"Tensor D (B * [[2], [3]]):\\n\", tensor_d)\n"
      ],
      "metadata": {
        "colab": {
          "base_uri": "https://localhost:8080/"
        },
        "id": "ddu--TO-dMQY",
        "outputId": "8b01b4c2-d22f-43ac-9a46-97204cd322ca"
      },
      "execution_count": null,
      "outputs": [
        {
          "output_type": "stream",
          "name": "stdout",
          "text": [
            "Tensor A: tensor([1, 2, 3, 4, 5])\n",
            "Tensor B:\n",
            " tensor([[1, 2],\n",
            "        [3, 4],\n",
            "        [5, 6]])\n",
            "Tensor C (A + 10): tensor([11, 12, 13, 14, 15])\n",
            "Tensor D (B * [[2], [3]]):\n",
            " tensor([[ 8],\n",
            "        [18],\n",
            "        [28]])\n"
          ]
        }
      ]
    },
    {
      "cell_type": "markdown",
      "source": [
        "\n",
        "\n",
        "---\n",
        "\n",
        "## Modules\n",
        "\n",
        "Modules in PyTorch are building blocks for neural networks. They can represent layers, activation functions, or even entire models."
      ],
      "metadata": {
        "id": "l5UA267VdtXU"
      }
    },
    {
      "cell_type": "code",
      "source": [
        "# Define a simple neural network module consisting of two fully connected layers with ReLU activation.\n",
        "class SimpleNN(nn.Module):\n",
        "    def __init__(self, input_size, hidden_size, output_size):\n",
        "        super(SimpleNN, self).__init__()\n",
        "        self.linear1 = nn.Linear(input_size, hidden_size)  # Input to hidden layer\n",
        "        self.relu = nn.ReLU()                              # Activation function\n",
        "        self.linear2 = nn.Linear(hidden_size, output_size) # Hidden to output layer\n",
        "\n",
        "    def forward(self, x):\n",
        "        out = self.linear1(x)\n",
        "        out = self.relu(out)\n",
        "        out = self.linear2(out)\n",
        "        return out\n",
        "\n",
        "# Instantiate the model\n",
        "model = SimpleNN(input_size=5, hidden_size=3, output_size=2)\n",
        "print(model)"
      ],
      "metadata": {
        "colab": {
          "base_uri": "https://localhost:8080/"
        },
        "id": "nM0_MwsDdsUT",
        "outputId": "dc4219e8-a12f-43ec-b0e6-aae42d9c4a9c"
      },
      "execution_count": null,
      "outputs": [
        {
          "output_type": "stream",
          "name": "stdout",
          "text": [
            "SimpleNN(\n",
            "  (linear1): Linear(in_features=5, out_features=3, bias=True)\n",
            "  (relu): ReLU()\n",
            "  (linear2): Linear(in_features=3, out_features=2, bias=True)\n",
            ")\n"
          ]
        }
      ]
    },
    {
      "cell_type": "markdown",
      "source": [
        "\n",
        "\n",
        "---\n",
        "\n",
        "\n",
        "\n",
        "## CUDA (GPU Support)\n",
        "\n",
        "PyTorch can utilize NVIDIA GPUs (and new Apple M series) to speed up computations. Let's check if CUDA (PyTorch's interface for GPU) is available and move a tensor to the GPU if possible. In Google Colab, you have a set amount of GPU hours for free."
      ],
      "metadata": {
        "id": "_DOIi7rEdz6I"
      }
    },
    {
      "cell_type": "code",
      "source": [
        "# Check if CUDA is available\n",
        "cuda_available = torch.cuda.is_available()\n",
        "device = torch.device(\"cuda\" if torch.cuda.is_available() else \"cpu\")\n",
        "print(f\"CUDA Available: {cuda_available}\")\n",
        "\n",
        "# Create a tensor and move it to GPU if available\n",
        "tensor = torch.tensor([1.0, 2.0, 3.0])\n",
        "if cuda_available:\n",
        "    tensor = tensor.to(device)\n",
        "    print(\"Tensor moved to GPU.\")\n",
        "else:\n",
        "    print(\"Tensor remains on CPU.\")\n",
        "\n",
        "print(tensor)"
      ],
      "metadata": {
        "colab": {
          "base_uri": "https://localhost:8080/"
        },
        "id": "_XgqhfsRdzhM",
        "outputId": "d79201b1-34cb-42f9-fcfe-187f2c4c5f96"
      },
      "execution_count": null,
      "outputs": [
        {
          "output_type": "stream",
          "name": "stdout",
          "text": [
            "CUDA Available: True\n",
            "Tensor moved to GPU.\n",
            "tensor([1., 2., 3.], device='cuda:0')\n"
          ]
        }
      ]
    },
    {
      "cell_type": "markdown",
      "source": [
        "# The Transformer Architecture\n",
        "\n",
        "* Positiional Encoding\n",
        "* Multi-Head Attention (MHA)\n",
        "* Feed Forward Network (FFN)\n",
        "* Encoder\n",
        "* Decoder\n",
        "* Transformer Network"
      ],
      "metadata": {
        "id": "RkSmaYLReYH8"
      }
    },
    {
      "cell_type": "markdown",
      "source": [
        "\n",
        "\n",
        "---\n",
        "\n",
        "\n",
        "## Positional Encoding\n",
        "\n",
        "Question: Why do we need positional encoding?"
      ],
      "metadata": {
        "id": "-abp-WbRgbk2"
      }
    },
    {
      "cell_type": "markdown",
      "source": [
        "![pe.png](data:image/png;base64,iVBORw0KGgoAAAANSUhEUgAAAakAAABpCAYAAACAs9xbAAAACXBIWXMAAA7DAAAOwwHHb6hkAAAgEElEQVR4Xu2d/4cb+7/HP3/asIQy7jIsG8tmPxo9dvSHYRlKWELdjdKxNLc0jspxK0vluJV+lND7ybUfcXvlXiuHI6U51PajhEMoYSnP6/X+MpnMTL7tZpOZ7euHxw+bSWYm2Xm/n+/36+tfvn//DoZhGIZJIn8Jv8AwDMMwSYFFimEYhkksLFIMwzBMYmGRYhiGYRILixTDMAyTWFikGIZhmMTCIsUwDMMkFhYphmEYJrGwSDEMwzCJhUWKYRiGSSwsUgzDMExiYZFiGIZhEguLFMMwDJNYWKQYhmGYxMIixTAMwyQWFimGYRgmsbBIMQzDMImFRYphGIZJLCxSDMMwTGJhkWLWyBDdFw7yz7sYRY4xyzFC93kezosuhpFjDHN3YJG6Q4w+N1Haz8DYKqJ1FT2+afov88jcr6A3ih5jrsFVH9X7BnI/96PHGOaOwCJ1Rxi8L8LaMmBsu2h8HkWOb5phqwhzy0VjED3G3ICvddhbJgrvh9FjDHMHYJG6AwgBMAwYW3lUPiZPoOREasA+u4weY27M4LUNw7BR+xo9xjBph0Uq7QwbcGkHZRhw3wyixzfOEA3XgLHroctmvtvhqofyrgHjqMH+KebOwSKVakZoFU0hUMZuGb0E+qG+dzyxy0umgN4dhm9dGIaJ0ofoMYZJMyxSaWZQh00CZSTVeT5C8xGZIQto8S7qdvnWlDtqt8GRk8ydgkUqxYzE6plEyoJ3ET2+cb7WpIgetxI1cXae5ZHbM5E5sOG4JZQf5WC6DQzU8cv3HpyHLsovishZDmqf9GeH6JzmkT/2UDrMwn2brN1hq0jPQh61L9FjDJNWWKRSTO+5pUTKRTOBOxXp0DdQeJ+gYA7acVgeqqcWDLOA1vA7vv9RRc4wUGzpKMQ8qkqYWscGjPs1XNJnP5RgmiV0rgZoOAYMZyxsieB9Qfze9lmyxPPmjHDZLCG/Y8HMGMjse+jQ/y3yvjRzifqRiYzyLyfTMrIZWKRSjFw5E4Ub5UUN3jjI0Hke1lc46Y5kwETSos6uRhj+eYnaw4DIKL+Z8+YDKhSA4P8O6juYHjoB0bUOC/B+7WKYtIWBNv+mNICiQwsHw4D5tDPxev9VHoaRhdfpo/ZATeIvrzuJD9F6TNcxE2l96P+cW1ikLt+XkN/OyDkgk4X7soPBDeaBa3N1idZJDpl7Jiwrg8yui+rF6lIiWKRSzKpEqvciewvBF20UaVW446G7snOuiKsWCoGJrv8yJ8L3a/9dQz44AV51UDINmIWmEK3Rn5fovqmgcCgn00IzQTtEQQ/lHXoeimhFjiUd5b+k59ANimwHnmnA2K+gT39/6aLZ7ODy2guELsqWAcMqopXAnD3xLC4gUmLHv11E8+sI30c91BwZQGUet9a8QBnK4K3t8e9JSfuGkUPFN5PfDBapFLMqkaIJYjgYYPgt/PoNUCa0RK7qfy/DMjIono/Dt7NPOxiq4ANtLhMRc9sO6p/kbpNW85WPWuRMFM+TJlJ697q6CWKt0C6XnsMJAWqhSM+RFqk7jt6tzxapntjx279cjn29fiqKeq4jn7klPlaQpft90Ru/phaBqwriYZFKMasTqVugVZQruyeTppskcEnmI9NC9qCAkpuHfdrCpfr9yISS23PgPSvAPvLQ1NU7PtXg7Dkov6mj8shF4SyZNfM6T+WKuvA+eiyd/FgipcfNTJH6LHf8k//nAepkwqYxd9qNfuaW0H5xd8Kq0Edln+5lNb5yFqkUs7hIDdF96SK3k4d74iK3nUV2NyMHQtuDdY/CxAMTwec6HEvZuo0cyu8aKBxmkRWvZZA77cydoBc1W6wftds4rK3Q/5Yckvu7z+bytSOCIsRzeNySr9OzuWNKf+lWBtaOBWunhPbMZ30KV5doFLIwyYejdseR9wja8PQ1afJ93ULlKIeses06qqP/7RLNk7y4H3HPVsz5Bh3UjvOwLLpnE5l7OZSagZ0PMaLz5JDJqO+2Z6PyhHbsc/5/Vx14ZLLcsuB1xq/784H+/daACCyKLIr6qB6sbkfPIpViFhYpikozHNS1DV6ZuPyBoLfnodWqfgDJ3ixs377fIDM3aVQ7gCdXWAngqiV8Zetcba4VFeGXDZpf0sKnijQRT0yyq9lJkd/VLLYw+KiuUZw9kevnV5Qa+10+w77v1jDh/qoER5m7JhY9wxaK2wbMYhMDtZMYfawgvxUcc7I4sLFlo6Z366MeKvTaPJGKRQvDOqM7x9eMF6nw69eDRSrFLCpScnU96UNpn1pwzvRAiJ8I9PmDA2bRlbr+7Coe0tXRQ+NJCaUTSeV8XYN5jShz0TpX0ytD+zFXLVIiAMYW+WODM+nzcd7Mjj7Tz/lEjp/+bQ8q6PvjTd2fPwZ1FZjoLqLzZPz66J3McbRCi6VFx1cEsRCldInZXQZ6v9hqR7ooOZSnRkFOE6Npr18PFqkUs6hIfb+QIdb03syujcJpFa2JSunxE0Gc0Cw6iOI+y6wBFqkoIiBjiNGVDDgwqBr/nDyr2Oc89rcNiZTaqceNyfE5eyrAJTo+Yq87D7VzM/Y8tNcasThNjKa9fj1YpFLM3r9okfprZECEEQEB5HtSYkU7q3F7h/iJIE5oFh1EcZ+NY3w/zCKEf78IsRNpSrgtkdJo09xEiHs8sc957G8bEin9HWaIlHH8euokHnvdWSizYeZBFb1VRucuyFyfFEXDxnxuGVikUsxPP/0kHpBXr15FjgUZfWqj/VEK0mh4ic5LR+6stj10xXviJ4I4oVl0EMV9llkDsRNpSrhlkRpHPo7w/dtwZspF7HMe+9uGROpbA+4ckbJO/3dFOymZo2Q+avh5Y4PzCkpv1ueP1NF9k+ZTna/nzN2xLgKLVIoZ76QOIgMiiHjwdWkf/ZpwDOuBFD8RxAnNooPoroVCj94XUXgXGIiDHsqH4QkrASQ49H8utylSKjHbMItojygAKAP37XS/VOxzvohI+aHgKqcucE45nqhS/cj3jYUDeGKvG8sQnadZWIHgDH2NWZ9drU9qvDudCNQJ5EnN27EuAotUilnUJyUf/MnurcKJ65f/iZ8IbiJS/vuuXb5mcwzfucjsltUuk6CJJ1zeSYay518lq5GjyAFb4P+TSG5TpHRu0aMmRhRFOKe/WexzvpBIUZRiVUTymcdNv0yRju4TEYbCd6Wi+3T9SPrclwZc8i2FJ/0YZFUHAxkR4j6Gav+td2GoKk4Evoe8tyy8i9VE9rJIpZhlRCqz78J9YCHvluAeZpFzq+gMZH4K1duS56GH3kH9f+pwArkiRsaEdVpH/UjlhdBrIm/FQzvmeoSu0D5vsKUCquYeqWtI5XrMiTyVJKBDp+dFryUNija1dB06IwNzx8Pb8LO5bYk8paBFYHFUzb4tqi3noDa1gzXlScnJ3n/Oj+qo0/0FfLo0TrxTJ3DP8v6c12rR8qWNiptVOVAmzO08Cmeh2nrDLqr+eyxYBwWUj5XfSlxjyvgKJPNGiUYV3jq6dh99D8uEueei2lld5CyLVIpZVKQ2giraeh1z2KBTg/eqO5H4SIEf9qELj5KRHwSqYIsBYsN+5KHk5pAPJBoPL6pwDx2UTgvI77sTCZfTztd/SRMPTfLjQUYi775Vk9qXBooHDrxi0Fx6XQboPKHzxNXaG6F/5sKMPTadsUkpeoxh0giLVIpJtEhpB/JBdWEzzeBdEfnDPLLkOwjuXERfqvGuRXxvVRNQ2Pa3PXSECUWG/zrka1A+CPu1FBthvtlRJryp5xug166hYBpw3+mVdg+VPRdN4WRXNdPOBnKnGPLzXQthQpoiRML8NeVYLJeoiWTQ1TisGSYJsEilmESLlF+/a9l7U+GrAZGSfhbbr5gh/QUOGtRygyZl/73qs04Dw3Oa/APmOCEGsj3D9PPpnlEF1M5VpW1yDOvqBEI0pDmFAkPM4xrav9/QrLFKkQpUDlldNXuG2SwsUikm2SKlI/yW7dsTFan2Y/qOYVGh6CnVDiQsUrsV/EMIUVik5A5p+vlUtfPdLOyTtjA3UgTV2HRG/YwsuI+LyJEvYstC8fyfymSXQf7Ug30vi9yDIrxiFhnVr6r/2kW+WEHFzcN9TY546vCbQ+5xDbUChfBKIeq/spEteCju51D57RoiJaq7pzSyj2GmwCKVYpIuUtovtVykWVSk5PcMiwoJkIqsCouU6eFv/nvUeZVIkflv+vlC90Imw13qxBu+xxD+bkheX0Q06tdE+w/lzCbR2XLR/D8SE/U/899H5lEThV+aqBZMGI/bS4uU/h7sj2LuEjcSqc6zbDT6RoVCiiiwezm4L8ZtECRdVA5CkTKBz/lVjxVr7Y2SMhIvUjqpb6nw4ahIxe98aIc2ZSe17eHvU3ZSFBAx/Xyhe/lQQu75AtGJs0RKdMtVIiUKqNqo/yeJd0ikgu+jMj7D0ZIipb57EptMMswNuJFICbQd3Mih+kfw2Ai9FzKcMrZbpDJNxPYcuRqgeRxfpJEZ44tUgicmmbRoofx79Fg8UZGK9SFtOWgMpvukBsv6pMT5QvdCVQnCz2aEAbrP6DvaKDdrKOwYsI5raOrXfhsoM14V1UIW9itp7ms9ziL/tIbyQ1rk5VD6MED/tYPsQQmVxzZK50P03xRgqXNErxtCJVXaCcvbYpibcnOR0mJjxphF/DpW4UTIcQfKqdFfwlQU/RyjGRdxTGT3W823FoqmgUywmvRMoiIlo/HG7UGoXph5JP09QgTvldCh96mOuc7bwTi6T7UtEPlDlKBLz+iM80XvJw2oytvBxFCGuSPcWKR0hrvI5A4f93dL0R2R3gVMdfIKgUuqGSsB+DXCkr96Fm3YY56BMKLu2ImDLJnwtrJwTkqoqax1ymuiXCfRMfdhCQ19LpEnlUfO9VAu2LBPGn4bBZEntZ9H6YXMiap+GCe4Tj1fGlGLQTeQ28Uwd4Ubi5SughtX/sbfLUV2WboAYSgz/msXTW3aIIFLsBlr0+h+NIu0Hdg8wzvdDXez9KXJ021MVjNgmDvCDUVKi01cRNEANSrAKTpFhlb6wklMx6wJZzWZZPwmYORDmGYK/OEZ/7a5F73oDjaJqJ43y0X6MfMQddK2KfAieoxh7gI3Eym/hlQow300QOe5NANmn7ajKzzV4joYNDH62hSTmCijH74OM4E0n83vwpk4BiRUk4VumeszbBVhbhfR/Mpjhrm73EykfLGhgpCBSryZDLIPPTR+G8Su8nUPElG4NFC9NyJ2IS7fFuH+sv6dw+iiDPskJkIxlh6qh+Fy93PYD1bcnoOqsGxYKV09D3tof7hc+//wLnJ50UYvjc8AwyzBjURK9wwydNmYhdD1xSZNPyJK66DiO71Hw8FE+O/ovAhrr7I+H9XVAL3zrp/jJcrghHq/rJvhRVmW+3dkBfPwcYZhmLvGDURqHAK9VFsAPypt0o/Ve5Ed+6NEIc/sOLfmqofyrolia4nr3JQPJWS2LJTOlSll2BCVAyZzwdZL+yQD414e1d/ZvMMwzI/B9UXKF5v5ocUT6BYOWwW0pvhTROTaYW1cqUIU/aTSMdH3rg/Z5M56tsHd1BWV9JH18OwzDkBgGObuc32REhn9ceHls9EdL6eGI1914G0bE62dhVlxouncAA03j9wu+b5suK6HopNF9pnKuaLcmVMHtltG5XEOllPzzYjfP9XhPrBFj6HcXpwvaITOMwf5fROZ4+aEH0rc+9yIw1v2SelwbsNAPibsPx0M0X3hIP98smcUs3nI/5p3KujO8A0zzDq5tkj5wQ9xSbxTkbsRHTodPj76owVPtFQuou3vsuRnzKeBpF8qAfOwigqdS/uxRNkbMsepdsb3q/J1VbZJtvmWoduiCsEF7ehi6rX9UUX+fg11EsbdCnrBY7PaKqwTYXqMhvCnBQqbzqQtMvEHQoS1B/zDDLNJlhSpEVontPoPFoGlyL7s2HcTS1/uLgLFaI17od1EoOBsdqKop/R9TYjUaIjBsA3PNPxgBpk4bML7m6phpprdabOk/Dy1/KaowhzcJ1W0/oi558C5I63PhUiNa75tEvLhid9rqeKtm0eETVMCcgJ+Q2YaA9QfTqm5yTBrZkmR2gQyGnBCpAhRUZqCKaTQiDJL20W8rVJ+ViDAgfxZ1AKhOZAC9LGF6qmLHFVp3wvtlDTCb5ZF5WKIYdAPliCR0gVFaZGQmkrxX+uwt2KSu5nk4f+vuNQSs1lSIFJKgEJh7qJ9t5FH7Ys2f5lwXvdVuSBdmFb6b0ynjv5VV/i6zIL0M4mCo/dr/i5k9G28qxI+sN0y6s/zslhp8JqmJ4uZbhy1K6RWJ9PqHyYK5Uvb9dBlM18q6D2n3frs3EWGuW1SIVLClBcKWBA9gbYt5I5KKDzIo3DWlaYJUXA0h+yRh/KxDee0KduAU3uEk6zohto4K8E98tAigQsUyXXfyWCN/pktelzlXBK38TXJD2c+asYHfKwdaZJJjclPRXVyEdQUoXyfU4tAM8waSIVIydYKedQ+69dkzcCVDZ5BD+1ndtSkOAHlbqk2EJFjm2Hc9DABwRwzGaH5aHbaAZNE1P/NcNHYaPoH8yOTDpFSJjg/R0m1JqAuq+H3XZfuaQ7uuxnnI9/WOiteLEDyO/MqxCLDgLFwT6kkcYN0h2EHHu3yT0uw91IaLKI6Gsvo2JjjDHPLpEakvl/1Ub1vwfuvNqonJZQU9Y8x712WzzXY+zMEiCp47zuoL5O0vAbSIlK6ZUsqiwdfO93hOzpPTLnbHzTgbK12UbU2dOftaXmNiaENj6KORWoGPWvh40xaSY9IERSd9+cGJrpvFJa+gevOIR0ipXPjUtpl+drpDspnuGXBPvZQvximcBdJaN9nkgIoBug22+jHmCBFQFRSReprAw5FFW/ZqKdxLGyIdIkUM0E6RKqNIq1u09zA8jrpDlcjDD930XhRgG1Jf5xuS5M2dOJ+sRU9thlaKE4px6Yr2iRSpPy0kUBdUmYuLFIpJhUipfyHxlEjtYmhy6c7DNBwAnl41NJmu4h2zMo/Dcjvn6CGlWLHmkKRUt0dNmINSjEsUikmFSKlHO8ri8TcAMunO3xH/5WD7FEZjV8rcN0CahdrrOC/anRR6ONlWvLcHnJxkE6RYpaHRSrFLCtSl+892LsZZCwqUWXC3HMngkEGnRoKD+iYBWs7g8xBCc3PgVXflxZKDyzkHhZQeJiFuZuFRWHlM66tJ43ErMKXZsXpDmlE74ZvPR9vhMumB3tPl0rLIOtO9k4bfW7A3ZbPvXiO6X1P2v5xX6R+baNylENWlXCzjiZzHonxeKCACwvOS7X4aHvy+c9kYOy6KLlZGZBhUfDUJepHFkzyLdFvspWB7Tji/XIs0n2V0P6jDjv4nrP/gEdl4URgR0Bgh11U3RysB3SdnBhT2UxQgIfonhWQu5eBSZ/P5FB6/2NFWrJIpZi9f9Ei9deZQkH0VcJy/mfZ2VhH3OkkaVFTj/wuTd1NeYTez9LnIgeMLM5rPe34AQCyjf0ckVKObLeZUhPHLaQ7pA4d4RcuuLxiRGHbrTwqul+abk1jFtCioA0SD7+L9+ydVPA8us5lsMSTfN4NuL/K513/nfM7C/RR2ZfjK3vaRYt208FzKAtB5rEWSMqjpJqkpXFFGvJBbbmofx0/+63jyXunCFDjqI6BHkO/l5ENHBe/iZGF15HnkH+P/aM/AixSKeann34SA+XVq1eRYxN8a8qq6cHghU81ODs5uGc9jL61UKQSS+HK11cdlOh1sYImZ7UMRfb7fH2uw9kpoT1DpPRuL5Xmlz9vId0hlaj//ZwFyY3Qu7VwLp3Kscv4r+tmq3NEKngeJSi+uVI/1xPBPHLHPBaZwHXo/05RnoMhRvr9Vy0ZEOT/JrpMWcZv5iq6jbuTvlg5HvS9q2tMdH2gUHoHNQrG0fmFQX+u7uOX+JSA1cEilWIWFSnt+J7aViU8iH2CE4IKBlDmi5xbQuVNb7wCnMKiIiXOy2yM8P9jktsXqelm4fC1FxOpifOEn2/9d2g86F2OjNbU15n+ncUuSD/b5LfLZIRpUe6upOUhnBs4KVJURECeg8Qt+7AA72Vr7NfU32WiG4Pe4SW9yszqYJFKMWNz38HUgUQEV5fhY7OP64GqBqKwn2cDbVpidl8hFhUpJsmEhWL16OdkukiFdh83ECn/ed91/F3ymDJaIlpzvkjJlAND7JZaT0xkn7eEMBn3imh/qcGOKQMWFikdfKOTkAXKvKl/E/N+IeY+6+lN6VgSFqkUs2jghL+TmhIG7h+fKlLUXJESKLvS1Ec5QB+bKO7J6ztvpkeusUjdBW5fpHQu1nSR0snEIZEatFE5qfu+skVEyvfHRp73IAuIlG/iM2Ga8n6EiY+uf5CD+bgdsVxMitQI/XYbPfG9KK+ug6ojd1aUOC66MYS/yw8Ii1SKWVSkdG8gscILvu9rA+5hFT19POwY13b37RI6I5osQr2rlEN91iDSAy2dIjVE60kRjRtVBxigUSyhFVe3j3yBx7J1jHxthMt3BVhTdgmbQwmFWUJn1nN2E3SYe9gkrX1VD7UvNCRS4vj4+V9EpPzxsO2hO3EffTRPq2j/GbzO7LGln2/fV6v9SBTcENMINs4nNVkXUZnz6F71bxJeXH7roPqkcatBLEmCRSrFLCxSflQQdVttKj+SrDtHodU0KeioIVEtQXxGR/eZKL6n19REFTTviQFpwutErze+rpo0/Kip9EARkePuzEM03Qyyz1WR42l87aLxsoBcJlCJgqK8Qq1mCFrRR5oK/l6GtVVEO3zeTfK5hjz97281BF3VQRSBCqHoPorU06/5z71aMJHJLRBEsJBIBcZD7rTj+1UHzQLMiBjOGVv0/6KoP19oVBmpKYIeJ1J+9KL4zjKoQ5ba0r+JCffXy3HU7YucP27D57+LsEilmGVEirh8X0Ke8jkypsiFyp2Mk0/F8XYF7l4GmXuUJ2XCfFBAraMnUdpVWbBdG7l9G4VjB7ndPEpNPXji0abE8WSfEsRkcc0uzGJ1HxApMXGFxZwc69HzC1PUw3qyIrdEWaiYFf3KGaL3Rj6j1M+NnsHsQ28yV4+g6vIHlHOUgbnnoCYEjKLiJvOXKDeqfkr5VnqcZGDuOKirlj8iT2pPjYcd6h9XQ4+qglCoO+Ukic+QBcIS57qM3K+65/M2esH/45cumhehXCYRCavD5+U5ndcfUD2gICQX+Z083BMX9m4O7suxcOo8KTFu6T52LORPWxiktMTWdWCRSjHLitRGuEG1Akou9l51J0SQhNY+dOGduMg98NDxV6DkgLZhP/JEUmT+tONPqMOLKtxDB6XTAvL7kwnMU89HK+SdsjSpUAV+SuDcchZrtxERKelzmVjd03vchvpuQ3Rf2Mg99uCas82n8xmhf+bCDF1fM/hQitzbXO5A1RAmvbBIpZhUiJTO64gxd01j8K6I/GEeWXJKB3cVIfOi+P5qdS8c1tueNLEoX5rzdhgynyhz0E5Z+iJmnE9MzPqeqSnmqwLMLRdNWml/7aLZbEZof1Ir/hiREtctjoWaEkzdd/L9osyPMA/JXJ0Jv991iLn+GFmcNf5YPLpz9awAGYa5LVikUkwqRMrP61j2HpW9PiBScrIcm8ik/8FB489L1O4H36s+6zQwPKddQMDUJnYFJryLWedTO8CAsIreUMc1tD/MNm8KYkRCnDtYnWCv6P8e4v9IO81BHbZhw2t2JsywSxNz/THLi5RfJeGHTWZmNgmLVIpJh0jpCCgpDOFj04mKlCj0GhGVLCofVTuQsEjtVvAPIURhkTLELmb6+Wj3RBFgWkhkInN2z0YpJmJrAtplnVGEngn3ZRNdFRlI/yu/71THQzZgOhudl2DdL6LkSJ9F5sG/41yY7AxYBQ/FvQyy+y68pzYyltotiq6/DryXJeSVmbL/2kHuqILaaR4ZLUSfarD3CvCKOeR+pqCPZUVKVWKYEgjAMLcNi1SK8cNfEy5S2i+1nK8lKlJSlMOiQgKkIg/DImV6+Jv/HnVeJVIkGNPPR3/LYAdd4uZGkMlx2/WbBnaeZOefN7AbEvdJpsLAa6IenfLz0fHsv/08bl/hv082nDQLVTR/IXMlRQ0uKVIqBJz9UcymYJFKMX5Sol79x7wnGajV+FIhzFGRit/50A5tyk5q28Pfp+ykqGDs9POp936qIv9AtYaP3N/iULhzXofgk2AdqICMWcwRKbFA0SJ1bMD811PYEZGS4dB6cTD6k7oDLydS8jehZO7oMYZZByxSacZPHJys8JxEZCa+tURH0qhIxfqQRMTddJ/UYFmfVCiCj5rUDW/iH6JKAlSYVP9N1TqGc0yGFKH3hkyGFgpnTZSp1M5hWZkRLRTe9DEatlDas+GdURh1SeTZiLyuR1VUi1S6yoR71sfoUx3OXg6lF0XYJ23887cybH2OyHXDqMrewaLCDLNmWKRSzUgl+xkw7tem5HEkBFVpfVzNeh5RkZKiPK4yLXYQRw1xXIigrmAtKmGYcN5SG3cV3adEXLQO2S3Lumczzhe9nx+PkWrfUnjPUX3M5mCRSju6xIuRgdtM9mQi+0/NL/kzOK+gdOIgS99rKwvnpITahdx9iIRkCiJ4VoD9sITGRKHOPHKuh3LBhn3S8M10Ik9qP4/SC5kTVf0w/p2mnu+HRy0S3MbcSvcMc5uwSN0BdMM2Kq/SXCTZdGMMhSP/R+qFk1ZEk8wtd7HkZYa5RVik7giXbwuwaOdhumh8iR5PDMMWitvLRvoxa4UCRrZ0zcaY4wyzRlik7hCjz02U9qnmWMIbog1IqNjXkUjEIsJEsSnbqkeOM8yaYZFiNsOwt1j1Bma9fOmi/TvvoJjkwCLFMAzDJBYWKYZhGCaxsEgxDMMwiYVFimEYhkksLFIMwzBMYmGRYhiGYRILixTDMAyTWFikGIZhmMTCIsUwDMMkFhYphmEYJrGwSDEMwzCJhUWKYRiGSSz/D26Jp0uX7uQkAAAAAElFTkSuQmCC)"
      ],
      "metadata": {
        "id": "HdvRCSkfitn4"
      }
    },
    {
      "cell_type": "code",
      "source": [
        "class PositionalEncoding(nn.Module):\n",
        "    def __init__(self, d_model, max_len=100):\n",
        "        \"\"\"\n",
        "        Initializes the PositionalEncoding module.\n",
        "\n",
        "        Args:\n",
        "            d_model (int): The dimensionality of the model's embeddings.\n",
        "            max_len (int): The maximum length of input sequences.\n",
        "        \"\"\"\n",
        "        super(PositionalEncoding, self).__init__()\n",
        "\n",
        "        # Initialize a matrix of shape (max_len, d_model) with zeros\n",
        "        pe = torch.zeros(max_len, d_model)\n",
        "        # Create a vector of positions (0, 1, 2, ..., max_len-1)\n",
        "        position = torch.arange(0, max_len, dtype=torch.float).unsqueeze(1)\n",
        "        # Compute the div_term based on the formula from the paper\n",
        "        div_term = torch.exp(torch.arange(0, d_model, 2).float() *\n",
        "         (-math.log(10000.0) / d_model))\n",
        "\n",
        "        # Apply sine to even indices and cosine to odd indices\n",
        "        pe[:, 0::2] = torch.sin(position * div_term)  # Apply sin to even dimensions\n",
        "        pe[:, 1::2] = torch.cos(position * div_term)  # Apply cos to odd dimensions\n",
        "\n",
        "        # Add a batch dimension\n",
        "        pe = pe.unsqueeze(0)  # Shape: (1, max_len, d_model)\n",
        "        # Register pe as a buffer so it's not considered a model parameter\n",
        "        self.register_buffer('pe', pe)\n",
        "\n",
        "    def forward(self, x):\n",
        "        \"\"\"\n",
        "        Adds positional encoding to input tensor x.\n",
        "\n",
        "        Args:\n",
        "            x (Tensor): Input tensor of shape (batch_size, seq_len, d_model).\n",
        "\n",
        "        Returns:\n",
        "            Tensor: Tensor with positional encodings added.\n",
        "        \"\"\"\n",
        "        # Add positional encoding to input embeddings\n",
        "        x = x + self.pe[:, :x.size(1), :]\n",
        "        return x"
      ],
      "metadata": {
        "id": "zfdrFQEExW0-"
      },
      "execution_count": null,
      "outputs": []
    },
    {
      "cell_type": "code",
      "source": [
        "# Parameters\n",
        "batch_size = 1      # Number of sequences in a batch\n",
        "seq_len = 10        # Number of tokens in a sequence\n",
        "d_model = 16        # Embedding dimension\n",
        "\n",
        "# Create a sample batch of token embeddings (random values)\n",
        "# Shape: (batch_size, seq_len, d_model)\n",
        "sample_embeddings = torch.randn(batch_size, seq_len, d_model)\n",
        "\n",
        "print(\"Sample Token Embeddings:\")\n",
        "print(sample_embeddings.shape)\n",
        "print(sample_embeddings)"
      ],
      "metadata": {
        "colab": {
          "base_uri": "https://localhost:8080/"
        },
        "collapsed": true,
        "id": "gr-lY2Jmdr6-",
        "outputId": "4e7f15d5-5896-47ca-a045-d000c2d93045"
      },
      "execution_count": null,
      "outputs": [
        {
          "output_type": "stream",
          "name": "stdout",
          "text": [
            "Sample Token Embeddings:\n",
            "torch.Size([1, 10, 16])\n",
            "tensor([[[-0.5576, -0.9063, -1.6841,  1.2533,  2.3832,  0.6340,  1.1293,\n",
            "           1.1656,  0.2019, -0.1867, -2.5624, -2.5129,  0.6147,  0.9397,\n",
            "          -1.3010, -0.2862],\n",
            "         [-0.0994,  1.0214, -1.1452, -0.1554, -0.0672, -1.3322,  1.3199,\n",
            "           0.2743, -0.5159,  0.7274, -0.8523,  0.7331,  1.1748,  2.0495,\n",
            "          -0.5174,  1.7581],\n",
            "         [-0.2272,  1.6276,  0.4431,  1.4765, -0.9395, -0.0579, -0.6380,\n",
            "          -1.1914,  1.2775, -0.2480, -1.7642,  0.3541, -0.5792,  0.9262,\n",
            "          -0.6661,  1.1158],\n",
            "         [ 0.8888,  0.3955,  1.2488,  0.4737, -0.1698, -1.5128, -2.1429,\n",
            "           0.2027, -0.0857, -0.7850, -0.2385,  0.0731,  0.4802,  0.7578,\n",
            "           1.4378, -0.3084],\n",
            "         [-0.4251,  0.3728,  0.3565,  0.0816, -0.6302,  0.6844, -1.2619,\n",
            "          -1.9197,  0.5627, -0.6454, -0.9183,  0.2998,  1.2813,  0.2280,\n",
            "          -0.3872, -0.5139],\n",
            "         [ 0.4239, -0.9155, -0.5410,  0.6207, -0.6882,  0.4554,  0.3244,\n",
            "           0.8001,  0.4837,  1.2128,  0.0856,  1.9144, -0.2915,  0.3720,\n",
            "           1.0700,  1.3862],\n",
            "         [-0.0851,  0.3846,  0.9611,  0.8543, -0.1845, -0.3302,  1.6812,\n",
            "           0.1920,  0.0206, -0.1390,  1.2115,  1.3995, -0.4192, -0.2039,\n",
            "          -0.2696, -0.3707],\n",
            "         [-1.7657,  0.6923, -0.5185,  0.8515,  0.1974,  1.4404, -1.3500,\n",
            "          -0.2100,  0.1081,  0.2429, -0.8127,  0.2838, -1.6471, -0.7056,\n",
            "           0.8564, -0.9564],\n",
            "         [-0.9478, -0.9800, -0.1296, -0.8019,  0.2465,  2.0456, -0.5923,\n",
            "          -0.5758, -0.9315, -0.3083, -0.2269,  0.3922,  0.1704,  2.7137,\n",
            "          -0.7738, -0.7941],\n",
            "         [-0.9771,  0.0954, -1.8914,  0.5408,  1.2903,  0.6236,  0.4662,\n",
            "           0.2746,  0.7115,  1.0845, -0.3535, -0.4953,  0.8571, -2.4351,\n",
            "           0.4958,  0.5077]]])\n"
          ]
        }
      ]
    },
    {
      "cell_type": "code",
      "source": [
        "# Instantiate the PositionalEncoding module\n",
        "pos_encoder = PositionalEncoding(d_model=d_model, max_len=100)\n",
        "\n",
        "# Apply positional encoding\n",
        "encoded_embeddings = pos_encoder(sample_embeddings)\n",
        "\n",
        "print(\"\\nEncoded Embeddings with Positional Encoding:\")\n",
        "print(encoded_embeddings.shape)\n",
        "print(encoded_embeddings)"
      ],
      "metadata": {
        "colab": {
          "base_uri": "https://localhost:8080/"
        },
        "id": "PCBd0clmev9F",
        "outputId": "ce9dc3c5-17d0-4eb6-824a-840e1aad017d"
      },
      "execution_count": null,
      "outputs": [
        {
          "output_type": "stream",
          "name": "stdout",
          "text": [
            "\n",
            "Encoded Embeddings with Positional Encoding:\n",
            "torch.Size([1, 10, 16])\n",
            "tensor([[[-0.5576,  0.0937, -1.6841,  2.2533,  2.3832,  1.6340,  1.1293,\n",
            "           2.1656,  0.2019,  0.8133, -2.5624, -1.5129,  0.6147,  1.9397,\n",
            "          -1.3010,  0.7138],\n",
            "         [ 0.7421,  1.5617, -0.8343,  0.7950,  0.0326, -0.3372,  1.3515,\n",
            "           1.2738, -0.5059,  1.7274, -0.8491,  1.7331,  1.1758,  3.0495,\n",
            "          -0.5171,  2.7581],\n",
            "         [ 0.6821,  1.2114,  1.0342,  2.2831, -0.7408,  0.9221, -0.5748,\n",
            "          -0.1934,  1.2975,  0.7518, -1.7579,  1.3541, -0.5772,  1.9262,\n",
            "          -0.6654,  2.1158],\n",
            "         [ 1.0300, -0.5945,  2.0615,  1.0565,  0.1257, -0.5574, -2.0482,\n",
            "           1.1982, -0.0557,  0.2146, -0.2290,  1.0731,  0.4832,  1.7578,\n",
            "           1.4387,  0.6916],\n",
            "         [-1.1819, -0.2808,  1.3101,  0.3827, -0.2408,  1.6054, -1.1357,\n",
            "          -0.9277,  0.6027,  0.3538, -0.9056,  1.2997,  1.2853,  1.2280,\n",
            "          -0.3859,  0.4861],\n",
            "         [-0.5350, -0.6318,  0.4589,  0.6103, -0.2088,  1.3330,  0.4818,\n",
            "           1.7877,  0.5337,  2.2116,  0.1014,  2.9143, -0.2865,  1.3720,\n",
            "           1.0715,  2.3862],\n",
            "         [-0.3645,  1.3448,  1.9083,  0.5335,  0.3801,  0.4951,  1.8698,\n",
            "           1.1741,  0.0806,  0.8592,  1.2305,  2.3993, -0.4132,  0.7961,\n",
            "          -0.2677,  0.6293],\n",
            "         [-1.1087,  1.4462,  0.2819,  0.2521,  0.8416,  2.2052, -1.1304,\n",
            "           0.7656,  0.1781,  1.2405, -0.7905,  1.2835, -1.6401,  0.2944,\n",
            "           0.8586,  0.0436],\n",
            "         [ 0.0416, -1.1255,  0.4448, -1.6205,  0.9638,  2.7423, -0.3420,\n",
            "           0.3924, -0.8516,  0.6885, -0.2017,  1.3918,  0.1784,  3.7136,\n",
            "          -0.7713,  0.2059],\n",
            "         [-0.5650, -0.8157, -1.6001, -0.4159,  2.0736,  1.2452,  0.7470,\n",
            "           1.2344,  0.8014,  2.0804, -0.3251,  0.5043,  0.8661, -1.4351,\n",
            "           0.4986,  1.5077]]])\n"
          ]
        }
      ]
    },
    {
      "cell_type": "code",
      "source": [
        "# Number of positions to visualize\n",
        "positions_to_plot = 10  # Plot first 10 positions\n",
        "\n",
        "# Create a tensor to hold positional encodings\n",
        "pos_encodings = pos_encoder.pe[0, :positions_to_plot, :].detach().cpu().numpy()\n",
        "\n",
        "# Plot the positional encodings for the first few dimensions\n",
        "plt.figure(figsize=(15, 5))\n",
        "for i in range(0, d_model, 2):  # Plot even and odd dimensions separately\n",
        "    plt.plot(range(positions_to_plot), pos_encodings[:, i], label=f'Dimension {i}')\n",
        "    plt.plot(range(positions_to_plot), pos_encodings[:, i+1], linestyle='dashed', label=f'Dimension {i+1}')\n",
        "\n",
        "plt.title('Positional Encodings for First 10 Positions and 16 Dimensions')\n",
        "plt.xlabel('Position')\n",
        "plt.ylabel('Positional Encoding Value')\n",
        "plt.legend()\n",
        "plt.show()"
      ],
      "metadata": {
        "colab": {
          "base_uri": "https://localhost:8080/",
          "height": 312
        },
        "id": "eRO9jWCYezXx",
        "outputId": "9481f446-bb9d-49ae-9a93-70a693179dcf"
      },
      "execution_count": null,
      "outputs": [
        {
          "output_type": "display_data",
          "data": {
            "text/plain": [
              "<Figure size 1500x500 with 1 Axes>"
            ],
            "image/png": "[encoded data removed]"
          },
          "metadata": {}
        }
      ]
    },
    {
      "cell_type": "markdown",
      "source": [
        "There can be other methods to include information regarding positions within the sequence (learned embedding vector, relative position encoding, etc)"
      ],
      "metadata": {
        "id": "FXWzADHQi1Se"
      }
    },
    {
      "cell_type": "markdown",
      "source": [
        "\n",
        "\n",
        "---\n",
        "\n",
        "\n",
        "\n",
        "## Multi-Head Attention\n",
        "\n",
        "Multi-head attention allows the model to focus on different parts of the input sequence simultaneously, capturing various relationships and features."
      ],
      "metadata": {
        "id": "6ioYUaUli235"
      }
    },
    {
      "cell_type": "markdown",
      "source": [
        "![mha.png](data:image/png;base64,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)"
      ],
      "metadata": {
        "id": "C-2DNx1Hi_yu"
      }
    },
    {
      "cell_type": "code",
      "source": [
        "class MultiHeadAttention(nn.Module):\n",
        "    def __init__(self, d_model, num_heads):\n",
        "        \"\"\"\n",
        "        Initializes the Multi-Head Attention module.\n",
        "\n",
        "        Args:\n",
        "            d_model (int): The dimensionality of the model's embeddings.\n",
        "            num_heads (int): The number of attention heads.\n",
        "        \"\"\"\n",
        "        super(MultiHeadAttention, self).__init__()\n",
        "\n",
        "        # Ensure that d_model is divisible by num_heads\n",
        "        assert d_model % num_heads == 0, \"d_model must be divisible by num_heads\"\n",
        "\n",
        "        self.d_model = d_model  # Dimensionality of the model\n",
        "        self.num_heads = num_heads  # Number of attention heads\n",
        "        self.d_k = d_model // num_heads  # Dimensionality per head\n",
        "\n",
        "        # Define linear layers to project inputs to queries, keys, and values\n",
        "        self.q_linear = nn.Linear(d_model, d_model)\n",
        "        self.k_linear = nn.Linear(d_model, d_model)\n",
        "        self.v_linear = nn.Linear(d_model, d_model)\n",
        "\n",
        "        # Softmax layer to compute attention weights\n",
        "        self.softmax = nn.Softmax(dim=-1)\n",
        "\n",
        "        # Output linear layer after concatenating all heads\n",
        "        self.out = nn.Linear(d_model, d_model)\n",
        "\n",
        "\n",
        "    def forward(self, query, key, value, mask=None):\n",
        "        \"\"\"\n",
        "        Performs multi-head attention.\n",
        "\n",
        "        Args:\n",
        "            query (Tensor): Query tensor of shape (batch_size, seq_len, d_model).\n",
        "            key (Tensor): Key tensor of shape (batch_size, seq_len, d_model).\n",
        "            value (Tensor): Value tensor of shape (batch_size, seq_len, d_model).\n",
        "            mask (Tensor, optional): Mask tensor to prevent attention to certain positions.\n",
        "                                      Shape: (batch_size, 1, 1, seq_len) or None.\n",
        "\n",
        "        Returns:\n",
        "            Tensor: Output tensor after applying multi-head attention.\n",
        "                    Shape: (batch_size, seq_len, d_model).\n",
        "        \"\"\"\n",
        "        batch_size = query.size(0)  # Get the batch size\n",
        "\n",
        "        # Step 1: Linear projections\n",
        "        # Project queries, keys, and values using the respective linear layers\n",
        "        # Each has shape: (batch_size, seq_len, d_model)\n",
        "        Q = self.q_linear(query)\n",
        "        K = self.k_linear(key)\n",
        "        V = self.v_linear(value)\n",
        "\n",
        "        # Step 2: Reshape and split into multiple heads\n",
        "        # After view: (batch_size, seq_len, num_heads, d_k)\n",
        "        # After transpose: (batch_size, num_heads, seq_len, d_k)\n",
        "        Q = Q.view(batch_size, -1, self.num_heads, self.d_k).transpose(1, 2)\n",
        "        K = K.view(batch_size, -1, self.num_heads, self.d_k).transpose(1, 2)\n",
        "        V = V.view(batch_size, -1, self.num_heads, self.d_k).transpose(1, 2)\n",
        "\n",
        "        # Step 3: Scaled Dot-Product Attention\n",
        "        # Compute attention scores by matrix multiplication of Q and K^T\n",
        "        # scores shape: (batch_size, num_heads, seq_len, seq_len)\n",
        "        scores = torch.matmul(Q, K.transpose(-2, -1)) / math.sqrt(self.d_k)\n",
        "\n",
        "        # Step 4: Apply mask (if provided) to the attention scores\n",
        "        if mask is not None:\n",
        "            scores = scores.masked_fill(mask == 0, -1e9)  # Assign a large negative value to masked positions\n",
        "\n",
        "        # Step 5: Compute attention weights using softmax\n",
        "        attn = self.softmax(scores)  # Shape: (batch_size, num_heads, seq_len, seq_len)\n",
        "\n",
        "        # Step 6: Compute the attention output by weighting the values with attention weights\n",
        "        context = torch.matmul(attn, V)  # Shape: (batch_size, num_heads, seq_len, d_k)\n",
        "\n",
        "        # Step 7: Concatenate all attention heads\n",
        "        # First, transpose to (batch_size, seq_len, num_heads, d_k)\n",
        "        # Then, reshape to (batch_size, seq_len, d_model) by merging num_heads and d_k\n",
        "        context = context.transpose(1, 2).contiguous().view(batch_size, -1, self.d_model)\n",
        "\n",
        "        # Step 8: Final linear layer to project back to original d_model dimensions\n",
        "        out = self.out(context)  # Shape: (batch_size, seq_len, d_model)\n",
        "\n",
        "        return out"
      ],
      "metadata": {
        "id": "6b21J1-BxXH1"
      },
      "execution_count": null,
      "outputs": []
    },
    {
      "cell_type": "markdown",
      "source": [
        "There can also be different types of attention mechanisms that can be used to compute attention scores (we use scaled dot product as in the original Transformer paper). For example, in your first assignment, you will see Bahdanau attention."
      ],
      "metadata": {
        "id": "4LshWkND-lGo"
      }
    },
    {
      "cell_type": "markdown",
      "source": [
        "\n",
        "\n",
        "---\n",
        "\n",
        "## Feed-Forward Network\n",
        "A simple two-layer feed-forward network with a ReLU activation introduces non-linearity and allows the model to capture complex relationships."
      ],
      "metadata": {
        "id": "IuRmVi8mndDL"
      }
    },
    {
      "cell_type": "code",
      "source": [
        "class FeedForward(nn.Module):\n",
        "    def __init__(self, d_model, d_ff=512):\n",
        "        \"\"\"\n",
        "        Initializes the FeedForward module.\n",
        "\n",
        "        Args:\n",
        "            d_model (int): The dimensionality of the model's embeddings.\n",
        "            d_ff (int): The dimensionality of the feed-forward layer.\n",
        "        \"\"\"\n",
        "        super(FeedForward, self).__init__()\n",
        "        # Define two linear transformations with a ReLU activation in between\n",
        "        self.linear1 = nn.Linear(d_model, d_ff)\n",
        "        self.relu = nn.ReLU()\n",
        "        self.linear2 = nn.Linear(d_ff, d_model)\n",
        "\n",
        "    def forward(self, x):\n",
        "        \"\"\"\n",
        "        Applies the feed-forward network to input tensor x.\n",
        "\n",
        "        Args:\n",
        "            x (Tensor): Input tensor of shape (batch_size, seq_len, d_model).\n",
        "\n",
        "        Returns:\n",
        "            Tensor: Output tensor after applying the feed-forward network.\n",
        "        \"\"\"\n",
        "        out = self.linear1(x)  # First linear transformation\n",
        "        out = self.relu(out)    # ReLU activation\n",
        "        out = self.linear2(out) # Second linear transformation\n",
        "        return out\n"
      ],
      "metadata": {
        "id": "brMkfyqGxYVf"
      },
      "execution_count": null,
      "outputs": []
    },
    {
      "cell_type": "markdown",
      "source": [
        "\n",
        "\n",
        "---\n",
        "\n",
        "\n",
        "## Encoder and Decoder Layers\n",
        "Each Encoder layer consists of multi-head attention followed by a feed-forward network. Similarly, each Decoder layer includes masked multi-head attention, encoder-decoder attention, and a feed-forward network.\n",
        "\n",
        "Question: Why does the decoder use masked multi-head attention?"
      ],
      "metadata": {
        "id": "186mZU4Enjha"
      }
    },
    {
      "cell_type": "code",
      "source": [
        "class EncoderLayer(nn.Module):\n",
        "    def __init__(self, d_model, num_heads):\n",
        "        \"\"\"\n",
        "        Initializes the EncoderLayer module.\n",
        "\n",
        "        Args:\n",
        "            d_model (int): The dimensionality of the model's embeddings.\n",
        "            num_heads (int): The number of attention heads.\n",
        "        \"\"\"\n",
        "        super(EncoderLayer, self).__init__()\n",
        "        self.attention = MultiHeadAttention(d_model, num_heads)  # Self-attention mechanism\n",
        "        self.feed_forward = FeedForward(d_model)                 # Feed-forward network\n",
        "        # There can be different types of normalizations methods\n",
        "        self.norm1 = nn.LayerNorm(d_model)                       # Layer normalization after attention\n",
        "        self.norm2 = nn.LayerNorm(d_model)                       # Layer normalization after feed-forward\n",
        "\n",
        "    def forward(self, src, mask):\n",
        "        \"\"\"\n",
        "        Passes the input through the encoder layer.\n",
        "\n",
        "        Args:\n",
        "            src (Tensor): Input tensor of shape (batch_size, seq_len, d_model).\n",
        "            mask (Tensor): Mask tensor to prevent attention to certain positions.\n",
        "\n",
        "        Returns:\n",
        "            Tensor: Output tensor after processing through the encoder layer.\n",
        "        \"\"\"\n",
        "        # Self-attention sublayer\n",
        "        attn_output = self.attention(src, src, src, mask)\n",
        "        # Add & Normalize (can be the other way)\n",
        "        src = self.norm1(src + attn_output)\n",
        "\n",
        "        # Feed-forward sublayer\n",
        "        ff_output = self.feed_forward(src)\n",
        "        # Add & Normalize\n",
        "        src = self.norm2(src + ff_output)\n",
        "\n",
        "        return src\n",
        "\n",
        "class DecoderLayer(nn.Module):\n",
        "    def __init__(self, d_model, num_heads):\n",
        "        \"\"\"\n",
        "        Initializes the DecoderLayer module.\n",
        "\n",
        "        Args:\n",
        "            d_model (int): The dimensionality of the model's embeddings.\n",
        "            num_heads (int): The number of attention heads.\n",
        "        \"\"\"\n",
        "        super(DecoderLayer, self).__init__()\n",
        "        self.attention1 = MultiHeadAttention(d_model, num_heads)  # Masked self-attention\n",
        "        self.attention2 = MultiHeadAttention(d_model, num_heads)  # Encoder-decoder attention\n",
        "        self.feed_forward = FeedForward(d_model)                 # Feed-forward network\n",
        "        self.norm1 = nn.LayerNorm(d_model)                       # Layer normalization after first attention\n",
        "        self.norm2 = nn.LayerNorm(d_model)                       # Layer normalization after second attention\n",
        "        self.norm3 = nn.LayerNorm(d_model)                       # Layer normalization after feed-forward\n",
        "\n",
        "    def forward(self, tgt, enc_output, tgt_mask, src_mask):\n",
        "        \"\"\"\n",
        "        Passes the input through the decoder layer.\n",
        "\n",
        "        Args:\n",
        "            tgt (Tensor): Target tensor of shape (batch_size, tgt_len, d_model).\n",
        "            enc_output (Tensor): Encoder output tensor of shape (batch_size, src_len, d_model).\n",
        "            tgt_mask (Tensor): Mask tensor for the target to prevent attention to future tokens.\n",
        "            src_mask (Tensor): Mask tensor for the source to prevent attention to padding tokens.\n",
        "\n",
        "        Returns:\n",
        "            Tensor: Output tensor after processing through the decoder layer.\n",
        "        \"\"\"\n",
        "        # Masked self-attention sublayer\n",
        "        attn1_output = self.attention1(tgt, tgt, tgt, tgt_mask)\n",
        "        # Add & Normalize\n",
        "        tgt = self.norm1(tgt + attn1_output)\n",
        "\n",
        "        # Encoder-decoder attention sublayer\n",
        "        attn2_output = self.attention2(tgt, enc_output, enc_output, src_mask)\n",
        "        # Add & Normalize\n",
        "        tgt = self.norm2(tgt + attn2_output)\n",
        "\n",
        "        # Feed-forward sublayer\n",
        "        ff_output = self.feed_forward(tgt)\n",
        "        # Add & Normalize\n",
        "        tgt = self.norm3(tgt + ff_output)\n",
        "\n",
        "        return tgt\n"
      ],
      "metadata": {
        "id": "tcUfYDmaxZTa"
      },
      "execution_count": null,
      "outputs": []
    },
    {
      "cell_type": "markdown",
      "source": [
        "\n",
        "\n",
        "---\n",
        "\n",
        "\n",
        "## The Full Transformer Model\n",
        "Combining the encoder and decoder layers, along with embedding layers and positional encoding, we build the complete Transformer architecture."
      ],
      "metadata": {
        "id": "3NXGaX0fopRK"
      }
    },
    {
      "cell_type": "code",
      "source": [
        "class Transformer(nn.Module):\n",
        "    def __init__(self, src_vocab_size, tgt_vocab_size, d_model=256, num_layers=2, num_heads=8, d_ff=512, max_len=100):\n",
        "        \"\"\"\n",
        "        Initializes the Transformer model.\n",
        "\n",
        "        Args:\n",
        "            src_vocab_size (int): Size of the source vocabulary.\n",
        "            tgt_vocab_size (int): Size of the target vocabulary.\n",
        "            d_model (int): Dimensionality of the model's embeddings.\n",
        "            num_layers (int): Number of encoder and decoder layers.\n",
        "            num_heads (int): Number of attention heads.\n",
        "            d_ff (int): Dimensionality of the feed-forward network.\n",
        "            max_len (int): Maximum length of input sequences.\n",
        "        \"\"\"\n",
        "        super(Transformer, self).__init__()\n",
        "\n",
        "        # Embedding layers for source and target\n",
        "        self.src_embedding = nn.Embedding(src_vocab_size, d_model)\n",
        "        self.tgt_embedding = nn.Embedding(tgt_vocab_size, d_model)\n",
        "\n",
        "        # Positional encoding\n",
        "        self.positional_encoding = PositionalEncoding(d_model, max_len)\n",
        "\n",
        "        # Stacking encoder and decoder layers\n",
        "        self.encoder_layers = nn.ModuleList([EncoderLayer(d_model, num_heads) for _ in range(num_layers)])\n",
        "        self.decoder_layers = nn.ModuleList([DecoderLayer(d_model, num_heads) for _ in range(num_layers)])\n",
        "\n",
        "        # Final linear layer to generate output probabilities\n",
        "        self.fc_out = nn.Linear(d_model, tgt_vocab_size)\n",
        "\n",
        "    def make_src_mask(self, src):\n",
        "        \"\"\"\n",
        "        Creates a mask for the source sequences to ignore padding tokens.\n",
        "\n",
        "        Args:\n",
        "            src (Tensor): Source tensor of shape (batch_size, src_len).\n",
        "\n",
        "        Returns:\n",
        "            Tensor: Source mask of shape (batch_size, 1, 1, src_len).\n",
        "        \"\"\"\n",
        "        # Mask positions where src is not PAD_TOKEN = 0\n",
        "        mask = (src != 0).unsqueeze(1).unsqueeze(2)  # Shape: (batch_size, 1, 1, src_len)\n",
        "        return mask.to(device)\n",
        "\n",
        "    def make_tgt_mask(self, tgt):\n",
        "        \"\"\"\n",
        "        Creates a mask for the target sequences to ignore padding tokens and future tokens.\n",
        "\n",
        "        Args:\n",
        "            tgt (Tensor): Target tensor of shape (batch_size, tgt_len).\n",
        "\n",
        "        Returns:\n",
        "            Tensor: Target mask of shape (batch_size, 1, tgt_len, tgt_len).\n",
        "        \"\"\"\n",
        "        # Mask positions where tgt is not PAD_TOKEN = 0\n",
        "        tgt_pad_mask = (tgt != 0).unsqueeze(1).unsqueeze(2)  # Shape: (batch_size, 1, 1, tgt_len)\n",
        "        tgt_len = tgt.size(1)\n",
        "        # Mask future positions to prevent attention to them\n",
        "        tgt_sub_mask = torch.tril(torch.ones((tgt_len, tgt_len), device=device)).bool()\n",
        "        # Combine masks\n",
        "        tgt_mask = tgt_pad_mask & tgt_sub_mask  # Shape: (batch_size, 1, tgt_len, tgt_len)\n",
        "        return tgt_mask\n",
        "\n",
        "    def forward(self, src, tgt):\n",
        "        \"\"\"\n",
        "        Forward pass through the Transformer model.\n",
        "\n",
        "        Args:\n",
        "            src (Tensor): Source tensor of shape (batch_size, src_len).\n",
        "            tgt (Tensor): Target tensor of shape (batch_size, tgt_len).\n",
        "\n",
        "        Returns:\n",
        "            Tensor: Output tensor of shape (batch_size, tgt_len, tgt_vocab_size).\n",
        "        \"\"\"\n",
        "        # Create masks\n",
        "        src_mask = self.make_src_mask(src)\n",
        "        tgt_mask = self.make_tgt_mask(tgt)\n",
        "\n",
        "        # Embed and add positional encoding\n",
        "        enc_src = self.positional_encoding(self.src_embedding(src))  # Shape: (batch_size, src_len, d_model)\n",
        "        dec_tgt = self.positional_encoding(self.tgt_embedding(tgt))  # Shape: (batch_size, tgt_len, d_model)\n",
        "\n",
        "        # Pass through encoder layers\n",
        "        for layer in self.encoder_layers:\n",
        "            enc_src = layer(enc_src, src_mask)\n",
        "\n",
        "        # Pass through decoder layers\n",
        "        for layer in self.decoder_layers:\n",
        "            dec_tgt = layer(dec_tgt, enc_src, tgt_mask, src_mask)\n",
        "\n",
        "        # Generate output probabilities\n",
        "        out = self.fc_out(dec_tgt)  # Shape: (batch_size, tgt_len, tgt_vocab_size)\n",
        "\n",
        "        # Where's softmax?\n",
        "\n",
        "        return out"
      ],
      "metadata": {
        "id": "FalxaZZpxaP_"
      },
      "execution_count": null,
      "outputs": []
    },
    {
      "cell_type": "markdown",
      "source": [
        "# Example: Machine Translation (Seq2Seq)\n",
        "\n",
        "Now we will run a small-scale experiment for the Transformer we've just built on a Eng/Fr translation dataset (also used in your first assignment).\n",
        "\n",
        "Download the data from [here](https://download.pytorch.org/tutorial/data.zip) and extract to Google Drive to follow along.\n",
        "\n",
        "*Dataset from: [Translation with a Sequence to Sequence Network and Attention](https://pytorch.org/tutorials/intermediate/seq2seq_translation_tutorial.html)\n",
        "by Sean Robertson*\n",
        "\n",
        "\n",
        "```sh\n",
        "[KEY: > Eng, = Fr]\n",
        "\n",
        "> il est en train de peindre un tableau .\n",
        "= he is painting a picture .\n",
        "\n",
        "> pourquoi ne pas essayer ce vin delicieux ?\n",
        "= why not try that delicious wine ?\n",
        "\n",
        "> elle n est pas poete mais romanciere .\n",
        "= she is not a poet but a novelist .\n",
        "\n",
        "> vous etes trop maigre .\n",
        "= you re too skinny .\n",
        "```\n",
        "\n",
        "We'll go over a simple ML pipeline in PyTorch:\n",
        "\n",
        "* Data Preparation\n",
        "* Training Loop\n",
        "* Evaluation"
      ],
      "metadata": {
        "id": "txUqMXm7pNGD"
      }
    },
    {
      "cell_type": "markdown",
      "source": [
        "\n",
        "\n",
        "---\n",
        "\n",
        "\n",
        "## Data Preparation\n",
        "\n",
        "Before training our Transformer model, it's essential to convert raw text into a numerical format that the model can process. To do so, we will need:\n",
        "\n",
        "* Tokenizer: Splits sentences into lowercase words based on spaces.\n",
        "* Vocabulary: Constructs separate vocabularies for source (English) and target (French) languages, mapping words to unique indices.\n",
        "* Dataset and DataLoader (from PyTorch): Prepares and stores the data for training by padding sequences and organizing them into batches.\n"
      ],
      "metadata": {
        "id": "fEGZZ8JRqCyQ"
      }
    },
    {
      "cell_type": "code",
      "source": [
        "import os\n",
        "import random\n",
        "from torch.utils.data import DataLoader, Dataset\n",
        "\n",
        "# Path to your eng-fra.txt file\n",
        "DATA_PATH = '/content/drive/MyDrive/data/eng-fra.txt'\n",
        "\n",
        "# Check if the file exists\n",
        "if not os.path.isfile(DATA_PATH):\n",
        "    raise FileNotFoundError(f\"The data file {DATA_PATH} does not exist.\")\n",
        "\n",
        "# Read the data file and filter sentences starting with \"i am\" (case-insensitive)\n",
        "all_data = []\n",
        "with open(DATA_PATH, 'r', encoding='utf-8') as f:\n",
        "    for line in f:\n",
        "        line = line.strip()\n",
        "        if line:\n",
        "            parts = line.split('\\t')\n",
        "            if len(parts) != 2:\n",
        "                continue  # Skip malformed lines\n",
        "            src, tgt = parts\n",
        "            if src.lower().startswith(\"i am\"):\n",
        "                all_data.append((src, tgt))\n",
        "\n",
        "print(f\"Total 'I am' sentence pairs: {len(all_data)}\")\n",
        "\n",
        "# Limit to max_samples\n",
        "max_samples = 800\n",
        "if len(all_data) > max_samples:\n",
        "    data = random.sample(all_data, max_samples)\n",
        "    print(f\"Selected {max_samples} 'I am' sentence pairs for training/testing.\")\n",
        "else:\n",
        "    data = all_data\n",
        "    print(f\"Using all available {len(data)} 'I am' sentence pairs.\")\n",
        "\n",
        "# Special tokens\n",
        "SOS_TOKEN = '<sos>'\n",
        "EOS_TOKEN = '<eos>'\n",
        "PAD_TOKEN = '<pad>'\n",
        "\n",
        "# Simple tokenizer: split by spaces\n",
        "def tokenize(sentence):\n",
        "    \"\"\"\n",
        "    Tokenizes a sentence by splitting on spaces.\n",
        "\n",
        "    Args:\n",
        "        sentence (str): The sentence to tokenize.\n",
        "\n",
        "    Returns:\n",
        "        list: List of tokenized words.\n",
        "    \"\"\"\n",
        "    return sentence.lower().split()\n",
        "\n",
        "# Vocabulary class\n",
        "class Vocab:\n",
        "    def __init__(self):\n",
        "        \"\"\"\n",
        "        Initializes the vocabulary with special tokens.\n",
        "        \"\"\"\n",
        "        self.word2idx = {PAD_TOKEN:0, SOS_TOKEN:1, EOS_TOKEN:2}\n",
        "        self.idx2word = {0:PAD_TOKEN, 1:SOS_TOKEN, 2:EOS_TOKEN}\n",
        "        self.count = 3  # Start indexing from 3\n",
        "\n",
        "    def add_sentence(self, sentence):\n",
        "        \"\"\"\n",
        "        Adds words from a sentence to the vocabulary.\n",
        "\n",
        "        Args:\n",
        "            sentence (str): The sentence to add.\n",
        "        \"\"\"\n",
        "        for word in tokenize(sentence):\n",
        "            if word not in self.word2idx:\n",
        "                self.word2idx[word] = self.count\n",
        "                self.idx2word[self.count] = word\n",
        "                self.count +=1\n",
        "\n",
        "    def numericalize(self, sentence):\n",
        "        \"\"\"\n",
        "        Converts a sentence into a list of numerical indices.\n",
        "\n",
        "        Args:\n",
        "            sentence (str): The sentence to numericalize.\n",
        "\n",
        "        Returns:\n",
        "            list: List of indices representing the sentence.\n",
        "        \"\"\"\n",
        "        return [self.word2idx[SOS_TOKEN]] + [self.word2idx.get(word, self.word2idx[PAD_TOKEN]) for word in tokenize(sentence)] + [self.word2idx[EOS_TOKEN]]\n",
        "\n",
        "    def __len__(self):\n",
        "        \"\"\"\n",
        "        Returns the size of the vocabulary.\n",
        "\n",
        "        Returns:\n",
        "            int: Vocabulary size.\n",
        "        \"\"\"\n",
        "        return len(self.word2idx)\n",
        "\n",
        "# Create source and target vocabularies\n",
        "src_vocab = Vocab()\n",
        "tgt_vocab = Vocab()\n",
        "\n",
        "for src, tgt in data:\n",
        "    src_vocab.add_sentence(src)\n",
        "    tgt_vocab.add_sentence(tgt)\n",
        "\n",
        "SRC_VOCAB_SIZE = len(src_vocab)\n",
        "TGT_VOCAB_SIZE = len(tgt_vocab)\n",
        "\n",
        "print(f\"Source Vocabulary Size: {SRC_VOCAB_SIZE}\")\n",
        "print(f\"Target Vocabulary Size: {TGT_VOCAB_SIZE}\")\n",
        "\n",
        "\n",
        "# Custom Dataset class\n",
        "class TranslationDataset(Dataset):\n",
        "    def __init__(self, data, src_vocab, tgt_vocab):\n",
        "        \"\"\"\n",
        "        Initializes the dataset.\n",
        "\n",
        "        Args:\n",
        "            data (list of tuples): List of (source_sentence, target_sentence) tuples.\n",
        "            src_vocab (Vocab): Source language vocabulary.\n",
        "            tgt_vocab (Vocab): Target language vocabulary.\n",
        "        \"\"\"\n",
        "        self.data = data\n",
        "        self.src_vocab = src_vocab\n",
        "        self.tgt_vocab = tgt_vocab\n",
        "\n",
        "    def __len__(self):\n",
        "        \"\"\"\n",
        "        Returns the number of samples in the dataset.\n",
        "\n",
        "        Returns:\n",
        "            int: Number of samples.\n",
        "        \"\"\"\n",
        "        return len(self.data)\n",
        "\n",
        "    def __getitem__(self, idx):\n",
        "        \"\"\"\n",
        "        Retrieves a sample from the dataset.\n",
        "\n",
        "        Args:\n",
        "            idx (int): Index of the sample.\n",
        "\n",
        "        Returns:\n",
        "            tuple: (source_sequence, target_sequence)\n",
        "        \"\"\"\n",
        "        src, tgt = self.data[idx]\n",
        "        src_seq = torch.tensor(self.src_vocab.numericalize(src), dtype=torch.long)\n",
        "        tgt_seq = torch.tensor(self.tgt_vocab.numericalize(tgt), dtype=torch.long)\n",
        "        return src_seq, tgt_seq\n",
        "\n",
        "# Collate function to pad sequences within a batch\n",
        "def collate_fn(batch):\n",
        "    \"\"\"\n",
        "    Pads sequences in a batch to the same length.\n",
        "\n",
        "    Args:\n",
        "        batch (list of tuples): List of (source_sequence, target_sequence) tuples.\n",
        "\n",
        "    Returns:\n",
        "        tuple: Padded source and target tensors.\n",
        "    \"\"\"\n",
        "    src_batch, tgt_batch = zip(*batch)\n",
        "    src_padded = pad_sequence(src_batch, padding_value=src_vocab.word2idx[PAD_TOKEN], batch_first=True)\n",
        "    tgt_padded = pad_sequence(tgt_batch, padding_value=tgt_vocab.word2idx[PAD_TOKEN], batch_first=True)\n",
        "    return src_padded.to(device), tgt_padded.to(device)"
      ],
      "metadata": {
        "colab": {
          "base_uri": "https://localhost:8080/"
        },
        "id": "HRnTKpK2yTlP",
        "outputId": "c6a423b2-6a7e-4bb1-9d2e-7b5713e8100a"
      },
      "execution_count": null,
      "outputs": [
        {
          "output_type": "stream",
          "name": "stdout",
          "text": [
            "Total 'I am' sentence pairs: 807\n",
            "Selected 800 'I am' sentence pairs for training/testing.\n",
            "Source Vocabulary Size: 938\n",
            "Target Vocabulary Size: 1152\n"
          ]
        }
      ]
    },
    {
      "cell_type": "markdown",
      "source": [
        "To prepare our data, we'll use the DataLoader/Dataset provided by PyTorch.\n",
        "\n",
        "Typically, we will split our data into train/val/test splits where val is used for hyperparameter tuning. However, since we won't be doing any of that in the tutorial, the data is only split into train/test."
      ],
      "metadata": {
        "id": "Zl1BHpkfls0j"
      }
    },
    {
      "cell_type": "code",
      "source": [
        "# Create Dataset and DataLoader\n",
        "dataset = TranslationDataset(data, src_vocab, tgt_vocab)\n",
        "\n",
        "# Split into training and testing (80-20 split)\n",
        "split_ratio = 0.8\n",
        "split_idx = int(len(dataset) * split_ratio)\n",
        "train_data = dataset.data[:split_idx]\n",
        "test_data = dataset.data[split_idx:]\n",
        "\n",
        "print(f\"Training samples: {len(train_data)}\")\n",
        "print(f\"Testing samples: {len(test_data)}\")\n",
        "\n",
        "# Create DataLoaders\n",
        "BATCH_SIZE = 3  # Adjust based on dataset size and available memory\n",
        "\n",
        "train_dataset = TranslationDataset(train_data, src_vocab, tgt_vocab)\n",
        "test_dataset = TranslationDataset(test_data, src_vocab, tgt_vocab)\n",
        "\n",
        "train_loader = DataLoader(train_dataset, batch_size=BATCH_SIZE, shuffle=True, collate_fn=collate_fn)\n",
        "test_loader = DataLoader(test_dataset, batch_size=1, shuffle=False, collate_fn=collate_fn)\n",
        "\n",
        "\n",
        "# Demonstration: Loading a batch from train_loader and showing padding\n",
        "print(\"\\n--- Demonstration ---\")\n",
        "\n",
        "# Fetch the first batch from train_loader\n",
        "src_batch, tgt_batch = next(iter(train_loader))  # Get the first batch\n",
        "\n",
        "\n",
        "print(\"\\nEnglish (Decoded):\")\n",
        "for src_seq in src_batch:\n",
        "    words = [src_vocab.idx2word[idx.item()] for idx in src_seq]\n",
        "    print(words)\n",
        "\n",
        "print(\"\\nFrench (Decoded):\")\n",
        "for tgt_seq in tgt_batch:\n",
        "    words = [tgt_vocab.idx2word[idx.item()] for idx in tgt_seq]\n",
        "    print(words)\n",
        "\n",
        "print(\"\\nEnglish (Numericalized):\")\n",
        "print(src_batch)\n",
        "\n",
        "print(\"\\nFrench (Numericalized):\")\n",
        "print(tgt_batch)"
      ],
      "metadata": {
        "colab": {
          "base_uri": "https://localhost:8080/"
        },
        "id": "G79FadYylhjp",
        "outputId": "0b68bdbf-263c-48a7-f3ab-d86666835b52"
      },
      "execution_count": null,
      "outputs": [
        {
          "output_type": "stream",
          "name": "stdout",
          "text": [
            "Training samples: 640\n",
            "Testing samples: 160\n",
            "\n",
            "--- Demonstration ---\n",
            "\n",
            "English (Decoded):\n",
            "['<sos>', 'i', 'am', 'very', 'sensitive', 'to', 'the', 'cold.', '<eos>']\n",
            "['<sos>', 'i', 'am', 'too', 'tired', 'to', 'run.', '<eos>', '<pad>']\n",
            "['<sos>', 'i', 'am', 'eating', 'a', 'sandwich.', '<eos>', '<pad>', '<pad>']\n",
            "\n",
            "French (Decoded):\n",
            "['<sos>', 'je', 'suis', 'très', 'sensible', 'au', 'froid.', '<eos>', '<pad>', '<pad>']\n",
            "['<sos>', 'je', 'suis', 'trop', 'fatigué', 'pour', 'courir.', '<eos>', '<pad>', '<pad>']\n",
            "['<sos>', 'je', 'suis', 'en', 'train', 'de', 'manger', 'un', 'sandwich.', '<eos>']\n",
            "\n",
            "English (Numericalized):\n",
            "tensor([[  1,   3,   4,  71, 500,   6,   8, 225,   2],\n",
            "        [  1,   3,   4, 352,  33,   6, 416,   2,   0],\n",
            "        [  1,   3,   4,  35,  53, 425,   2,   0,   0]], device='cuda:0')\n",
            "\n",
            "French (Numericalized):\n",
            "tensor([[  1,   3,   9,  82, 591, 234, 250,   2,   0,   0],\n",
            "        [  1,   3,   9, 407,  45, 138, 487,   2,   0,   0],\n",
            "        [  1,   3,   9,  10,  11,  17,  40,  61, 498,   2]], device='cuda:0')\n"
          ]
        }
      ]
    },
    {
      "cell_type": "markdown",
      "source": [
        "\n",
        "\n",
        "---\n",
        "\n",
        "\n",
        "## Training the Transformer Model\n",
        "\n",
        "With the data ready and the model defined, it's time to train our Transformer. We'll set up the training loop, define the loss function, and choose an optimizer."
      ],
      "metadata": {
        "id": "78u2Qc98tFIB"
      }
    },
    {
      "cell_type": "code",
      "source": [
        "# Create DataLoaders\n",
        "BATCH_SIZE = 10  # Adjust based on dataset size and available memory\n",
        "\n",
        "train_dataset = TranslationDataset(train_data, src_vocab, tgt_vocab)\n",
        "test_dataset = TranslationDataset(test_data, src_vocab, tgt_vocab)\n",
        "\n",
        "train_loader = DataLoader(train_dataset, batch_size=BATCH_SIZE, shuffle=True, collate_fn=collate_fn)\n",
        "test_loader = DataLoader(test_dataset, batch_size=1, shuffle=False, collate_fn=collate_fn)\n",
        "\n",
        "# Hyperparameters\n",
        "D_MODEL = 256\n",
        "NUM_LAYERS = 2\n",
        "NUM_HEADS = 8\n",
        "D_FF = 512\n",
        "MAX_LEN = 30  # Should be >= max sequence length\n",
        "NUM_EPOCHS = 100\n",
        "LEARNING_RATE = 0.001\n",
        "\n",
        "# Initialize the Transformer model\n",
        "model = Transformer(\n",
        "    src_vocab_size=SRC_VOCAB_SIZE,\n",
        "    tgt_vocab_size=TGT_VOCAB_SIZE,\n",
        "    d_model=D_MODEL,\n",
        "    num_layers=NUM_LAYERS,\n",
        "    num_heads=NUM_HEADS,\n",
        "    d_ff=D_FF,\n",
        "    max_len=MAX_LEN\n",
        ").to(device)\n",
        "\n",
        "# Define loss function and optimizer\n",
        "criterion = nn.CrossEntropyLoss(ignore_index=src_vocab.word2idx[PAD_TOKEN]) # This has built in softmax\n",
        "optimizer = optim.Adam(model.parameters(), lr=LEARNING_RATE)\n",
        "\n",
        "# Training loop\n",
        "for epoch in range(1, NUM_EPOCHS + 1):\n",
        "    model.train()\n",
        "    epoch_loss = 0\n",
        "\n",
        "    for src, tgt in train_loader:\n",
        "        optimizer.zero_grad()\n",
        "\n",
        "        # Prepare input and target sequences\n",
        "        # TEACHER FORCING\n",
        "        input_src = src  # (batch_size, src_len)\n",
        "        input_tgt = tgt[:, :-1]  # Remove the last token for input to decoder\n",
        "        target = tgt[:, 1:].contiguous().view(-1)  # Remove the first token for target\n",
        "\n",
        "        # Forward pass\n",
        "        output = model(input_src, input_tgt)  # (batch_size, tgt_len -1, tgt_vocab_size)\n",
        "        output = output.view(-1, TGT_VOCAB_SIZE)  # Reshape for loss computation\n",
        "\n",
        "        # Compute loss\n",
        "        loss = criterion(output, target)\n",
        "        loss.backward()\n",
        "\n",
        "        # Update parameters\n",
        "        optimizer.step()\n",
        "\n",
        "        epoch_loss += loss.item()\n",
        "\n",
        "    # Print loss every 50 epochs and at the first epoch\n",
        "    if epoch % 10 == 0 or epoch == 1:\n",
        "        avg_loss = epoch_loss / len(train_loader)\n",
        "        print(f\"Epoch {epoch}, Loss: {avg_loss:.4f}\")\n"
      ],
      "metadata": {
        "id": "Qusjz1Clycex",
        "colab": {
          "base_uri": "https://localhost:8080/"
        },
        "outputId": "51c7330f-3022-4c79-c500-fc8a4973644a"
      },
      "execution_count": null,
      "outputs": [
        {
          "output_type": "stream",
          "name": "stdout",
          "text": [
            "Epoch 1, Loss: 4.4862\n",
            "Epoch 10, Loss: 0.1901\n",
            "Epoch 20, Loss: 0.4519\n",
            "Epoch 30, Loss: 0.1242\n",
            "Epoch 40, Loss: 0.0976\n",
            "Epoch 50, Loss: 0.0929\n",
            "Epoch 60, Loss: 0.0846\n",
            "Epoch 70, Loss: 0.2093\n",
            "Epoch 80, Loss: 0.0964\n",
            "Epoch 90, Loss: 0.0885\n",
            "Epoch 100, Loss: 0.3835\n"
          ]
        }
      ]
    },
    {
      "cell_type": "markdown",
      "source": [
        "Teacher forcing\n",
        "\n",
        "Imagine you have a target sentence: sos I am happy eos\n",
        "\n",
        "* Decoder Input (input_tgt): sos I am happy\n",
        "\n",
        "* Target Output (target): I am happy eos"
      ],
      "metadata": {
        "id": "Cke7GNQlxIIo"
      }
    },
    {
      "cell_type": "markdown",
      "source": [
        "\n",
        "\n",
        "\n",
        "---\n",
        "\n",
        "\n",
        "## Evaluation\n",
        "Now we can define a function to translate a given source sentence using the trained model. And then apply it to some of our data (greedy decoding). For now, we will just use the eye test to evaluate the model. In the assignment, you will be using metrics such BLEU score for evaluation."
      ],
      "metadata": {
        "id": "0aWFePlwuS9N"
      }
    },
    {
      "cell_type": "code",
      "source": [
        "# Cell 11: Evaluation Function\n",
        "def translate_sentence(model, sentence, src_vocab, tgt_vocab, max_len=100):\n",
        "    \"\"\"\n",
        "    Translate a given sentence using the trained Transformer model.\n",
        "\n",
        "    Args:\n",
        "        model (nn.Module): Trained Transformer model.\n",
        "        sentence (str): Source sentence to translate.\n",
        "        src_vocab (Vocab): Source language vocabulary.\n",
        "        tgt_vocab (Vocab): Target language vocabulary.\n",
        "        max_len (int): Maximum length of the translated sentence.\n",
        "\n",
        "    Returns:\n",
        "        str: Translated sentence.\n",
        "    \"\"\"\n",
        "    model.eval()\n",
        "\n",
        "    # Tokenize and numericalize the source sentence\n",
        "    tokens = tokenize(sentence)\n",
        "    numericalized = [src_vocab.word2idx.get(token, 0) for token in tokens]\n",
        "    numericalized = [src_vocab.word2idx[SOS_TOKEN]] + numericalized + [src_vocab.word2idx[EOS_TOKEN]]\n",
        "    src_tensor = torch.tensor(numericalized, dtype=torch.long).unsqueeze(0).to(device)  # (1, src_len)\n",
        "\n",
        "    with torch.no_grad():\n",
        "        enc_output = model.positional_encoding(model.src_embedding(src_tensor))\n",
        "        enc_output = enc_output  # (1, src_len, d_model)\n",
        "\n",
        "        # Pass through encoder layers\n",
        "        for layer in model.encoder_layers:\n",
        "            enc_output = layer(enc_output, model.make_src_mask(src_tensor))\n",
        "\n",
        "        # Initialize target sequence with <sos>\n",
        "        tgt_indices = [tgt_vocab.word2idx[SOS_TOKEN]]\n",
        "\n",
        "        for _ in range(max_len):\n",
        "            tgt_tensor = torch.tensor(tgt_indices, dtype=torch.long).unsqueeze(0).to(device)  # (1, tgt_len)\n",
        "            dec_tgt = model.positional_encoding(model.tgt_embedding(tgt_tensor))\n",
        "\n",
        "            # Pass through decoder layers\n",
        "            for layer in model.decoder_layers:\n",
        "                dec_tgt = layer(dec_tgt, enc_output, model.make_tgt_mask(tgt_tensor), model.make_src_mask(src_tensor))\n",
        "\n",
        "            # Generate output probabilities\n",
        "            output = model.fc_out(dec_tgt)  # (1, tgt_len, tgt_vocab_size)\n",
        "            output = output[:, -1, :]  # Get the last time step\n",
        "\n",
        "            # Choose the word with the highest probability\n",
        "            _, next_word = torch.max(output, dim=1)\n",
        "            next_word = next_word.item()\n",
        "\n",
        "            # Append to the target sequence\n",
        "            tgt_indices.append(next_word)\n",
        "\n",
        "            # Stop if <eos> is generated\n",
        "            if next_word == tgt_vocab.word2idx[EOS_TOKEN]:\n",
        "                break\n",
        "\n",
        "    # Convert indices back to words, excluding <sos> and <eos>\n",
        "    translated_tokens = [tgt_vocab.idx2word[idx] for idx in tgt_indices[1:-1]]\n",
        "    return ' '.join(translated_tokens)\n",
        "\n",
        "\n",
        "# Function to evaluate and display translations\n",
        "def evaluate_model(model, dataset, src_vocab, tgt_vocab, num_examples=5, dataset_name=\"Dataset\"):\n",
        "    \"\"\"\n",
        "    Evaluate the model on a given dataset and print sample translations.\n",
        "\n",
        "    Args:\n",
        "        model (nn.Module): Trained Transformer model.\n",
        "        dataset (list of tuples): List of (source_sentence, target_sentence).\n",
        "        src_vocab (Vocab): Source language vocabulary.\n",
        "        tgt_vocab (Vocab): Target language vocabulary.\n",
        "        num_examples (int): Number of examples to display.\n",
        "        dataset_name (str): Name of the dataset (e.g., \"Training\", \"Test\").\n",
        "    \"\"\"\n",
        "    print(f\"\\n--- {dataset_name} Evaluation ---\")\n",
        "    samples = random.sample(dataset, min(num_examples, len(dataset)))\n",
        "\n",
        "    for idx, (src, tgt) in enumerate(samples, 1):\n",
        "        translation = translate_sentence(model, src, src_vocab, tgt_vocab)\n",
        "        print(f\"Example {idx}:\")\n",
        "        print(f\"Source: {src}\")\n",
        "        print(f\"Predicted Translation: {translation}\")\n",
        "        print(f\"Target Translation: {tgt}\\n\")"
      ],
      "metadata": {
        "id": "HBP10oK1zorq"
      },
      "execution_count": null,
      "outputs": []
    },
    {
      "cell_type": "markdown",
      "source": [
        "\n",
        "\n",
        "---\n",
        "\n",
        "\n",
        "Let's see how the model performs."
      ],
      "metadata": {
        "id": "zj83MjBcu_hv"
      }
    },
    {
      "cell_type": "code",
      "source": [
        "# Evaluate on Training Data\n",
        "evaluate_model(model, train_data, src_vocab, tgt_vocab, num_examples=5, dataset_name=\"Training Data\")"
      ],
      "metadata": {
        "colab": {
          "base_uri": "https://localhost:8080/"
        },
        "id": "Z6csM1U22EjG",
        "outputId": "b03ff534-8c79-4bbd-9beb-a4a576c59245"
      },
      "execution_count": null,
      "outputs": [
        {
          "output_type": "stream",
          "name": "stdout",
          "text": [
            "\n",
            "--- Training Data Evaluation ---\n",
            "Example 1:\n",
            "Source: I am a bad person.\n",
            "Predicted Translation: je suis un homme qui\n",
            "Target Translation: Je suis un être mauvais.\n",
            "\n",
            "Example 2:\n",
            "Source: I am cooking now.\n",
            "Predicted Translation: en ce moment. je n'étudie en cuisine\n",
            "Target Translation: Je cuisine en ce moment.\n",
            "\n",
            "Example 3:\n",
            "Source: I am no longer a child.\n",
            "Predicted Translation: je ne suis plus un enfant.\n",
            "Target Translation: Je ne suis plus un enfant.\n",
            "\n",
            "Example 4:\n",
            "Source: I am sure.\n",
            "Predicted Translation: je suis sûr.\n",
            "Target Translation: Je suis certain.\n",
            "\n",
            "Example 5:\n",
            "Source: I am no more an artist than you are.\n",
            "Predicted Translation: je ne suis pas plus artiste que toi.\n",
            "Target Translation: Je ne suis pas plus artiste que toi.\n",
            "\n"
          ]
        }
      ]
    },
    {
      "cell_type": "markdown",
      "source": [
        "What about the test data?"
      ],
      "metadata": {
        "id": "v410kxaxpDm5"
      }
    },
    {
      "cell_type": "code",
      "source": [
        "# Evaluate on Testing Data\n",
        "evaluate_model(model, test_data, src_vocab, tgt_vocab, num_examples=5, dataset_name=\"Test Data\")"
      ],
      "metadata": {
        "colab": {
          "base_uri": "https://localhost:8080/"
        },
        "id": "R4mIBDXVpPvW",
        "outputId": "de758b87-d974-4c8d-fa17-1b640b562183"
      },
      "execution_count": null,
      "outputs": [
        {
          "output_type": "stream",
          "name": "stdout",
          "text": [
            "\n",
            "--- Test Data Evaluation ---\n",
            "Example 1:\n",
            "Source: I am not alone in this opinion.\n",
            "Predicted Translation: je ne suis pas en étudiant à l'université que à ce mode\n",
            "Target Translation: Je ne suis pas le seul à avoir cette opinion.\n",
            "\n",
            "Example 2:\n",
            "Source: I am not a doctor, but a teacher.\n",
            "Predicted Translation: je ne suis pas médecin, mais professeur.\n",
            "Target Translation: Je ne suis pas médecin, mais enseignant.\n",
            "\n",
            "Example 3:\n",
            "Source: I am sad to hear it.\n",
            "Predicted Translation: je me réjouis de l'entendre.\n",
            "Target Translation: Ça me rend triste d'entendre ça.\n",
            "\n",
            "Example 4:\n",
            "Source: I am human.\n",
            "Predicted Translation: je suis chaque train par j'ai je devoirs.\n",
            "Target Translation: Je suis humain.\n",
            "\n",
            "Example 5:\n",
            "Source: I am going to do it whether you agree or not.\n",
            "Predicted Translation: je vais en mesure de parler de cette vulgaire manière.\n",
            "Target Translation: Je vais le faire, que tu sois d'accord ou pas.\n",
            "\n"
          ]
        }
      ]
    },
    {
      "cell_type": "markdown",
      "source": [
        "\n",
        "\n",
        "\n",
        "---\n",
        "\n",
        "## Further Reading:\n",
        "\n",
        "[**Blog Post Explaining the Transformer (Lots of Visuals)**](https://jalammar.github.io/illustrated-transformer/)\n",
        "\n",
        "[**Blog Post About Transformer Variants**](https://lilianweng.github.io/posts/2023-01-27-the-transformer-family-v2/)\n",
        "\n",
        "\n"
      ],
      "metadata": {
        "id": "UjVr1B1R7ax8"
      }
    },
    {
      "cell_type": "markdown",
      "source": [
        "\n",
        "\n",
        "---\n",
        "\n",
        "\n",
        "## References\n",
        "\n",
        "Original Transformer Paper and Visuals: [Attention Is All You Need](https://arxiv.org/pdf/1706.03762)\n",
        "\n",
        "Code Snippets: [Tutorial 6: Transformers and Multi-Head Attention\n",
        "](https://uvadlc-notebooks.readthedocs.io/en/latest/tutorial_notebooks/tutorial6/Transformers_and_MHAttention.html)\n",
        "\n",
        "Dataset: [NLP From Scratch: Translation with a Sequence to Sequence Network and Attention](https://pytorch.org/tutorials/intermediate/seq2seq_translation_tutorial.html)\n",
        "\n",
        "\n",
        "\n",
        "\n"
      ],
      "metadata": {
        "id": "CK4cH0GH9BCY"
      }
    }
  ]
}